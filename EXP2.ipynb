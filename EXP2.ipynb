{
 "cells": [
  {
   "cell_type": "markdown",
   "id": "feebd70a",
   "metadata": {},
   "source": [
    "## the bottleneck model to tackle 250 products"
   ]
  },
  {
   "cell_type": "code",
   "execution_count": 1,
   "id": "0137382a",
   "metadata": {},
   "outputs": [
    {
     "name": "stdout",
     "output_type": "stream",
     "text": [
      "data generated!\n",
      "total time elapse :  122.86280179023743\n",
      "epoch :  50\n",
      "epoch :  100\n",
      "epoch :  150\n",
      "epoch :  200\n",
      "epoch :  250\n",
      "epoch :  300\n",
      "epoch :  350\n",
      "epoch :  400\n",
      "epoch :  450\n",
      "epoch :  500\n",
      "epoch :  550\n",
      "epoch :  600\n"
     ]
    }
   ],
   "source": [
    "import AssortmentGenerator as AG\n",
    "import MarkovGenerator as MG\n",
    "import Models\n",
    "import time\n",
    "\n",
    "import numpy as np\n",
    "import torch\n",
    "import torch.nn as nn\n",
    "\n",
    "from torch import optim\n",
    "from torch.utils.data import Dataset, DataLoader, TensorDataset\n",
    "import matplotlib.pyplot as plt\n",
    "\n",
    "start_time = time.time()\n",
    "\n",
    "N_prod = 250        # number of products\n",
    "Vec_Len = N_prod + 1\n",
    "Neck_Len = 30       # bottle neck width\n",
    "EPOCHS = 600\n",
    "SAMPLE_AMOUNT = 100000\n",
    "BATCH_SIZE = 5000\n",
    "TRAIN_VALI_RATE = 0.9\n",
    "ADAM_LR = 0.0005\n",
    "\n",
    "# generate latent parameters\n",
    "transP = MG.GenMarkovM(\n",
    "    product_num = N_prod,\n",
    "    gen_func = lambda x : MG.GenTransprob_Sparse(x)\n",
    ")\n",
    "lams = np.random.uniform(low = 0, high = 1, size = N_prod)\n",
    "lams = lams / sum(lams)\n",
    "\n",
    "# generate synthetic data\n",
    "INPUT = np.zeros((SAMPLE_AMOUNT,Vec_Len))\n",
    "OUTPUT = np.zeros((SAMPLE_AMOUNT,Vec_Len))\n",
    "for i in range(SAMPLE_AMOUNT):\n",
    "    \n",
    "    # generate input vector, which has length vec_len\n",
    "    # the first element is 0, which should be ignored when treated as an assortment\n",
    "    assort = AG.GenAssortment_Sparse(N_prod)    \n",
    "    INPUT[i] = AG.Product_0(assort)\n",
    "    OUTPUT[i] = MG.Absorbing_Calculator(lams, transP, assort)\n",
    "\n",
    "print(\"data generated!\")\n",
    "print(\"total time elapse : \",time.time()-start_time)\n",
    "\n",
    "train_dataset = TensorDataset(torch.Tensor(INPUT[:int(SAMPLE_AMOUNT * TRAIN_VALI_RATE)]),torch.Tensor(OUTPUT[:int(SAMPLE_AMOUNT * TRAIN_VALI_RATE)]))    \n",
    "vali_dataset = TensorDataset(torch.Tensor(INPUT[int(SAMPLE_AMOUNT * TRAIN_VALI_RATE):]),torch.Tensor(OUTPUT[int(SAMPLE_AMOUNT * TRAIN_VALI_RATE):]))    \n",
    "\n",
    "train_loader = DataLoader(train_dataset, shuffle=True, batch_size = BATCH_SIZE)\n",
    "vali_loader = DataLoader(vali_dataset, shuffle=True, batch_size = len(vali_dataset))\n",
    "\n",
    "model = Models.Bottleneck(Vec_Len, Neck_Len)\n",
    "optimizer = optim.Adam(model.parameters(), lr = ADAM_LR)\n",
    "criterion = nn.BCELoss()\n",
    "\n",
    "training_losses = []\n",
    "vali_losses = []\n",
    "\n",
    "for epo in range(1,EPOCHS+1):\n",
    "    if epo % 50 == 0:\n",
    "        print(\"epoch : \",epo)\n",
    "    for step, (IN, TEST) in enumerate(train_loader):\n",
    "        \n",
    "        OUT = model(IN)\n",
    "        loss = criterion(OUT,TEST)\n",
    "        optimizer.zero_grad()\n",
    "        loss.backward()\n",
    "        optimizer.step()\n",
    "        \n",
    "        loss_pure = loss.detach().item()\n",
    "        loss_base = criterion(TEST,TEST).detach().item()\n",
    "        training_losses.append((loss_pure - loss_base)/loss_base)\n",
    "        \n",
    "    for step, (VALI_IN, VALI_TEST) in enumerate(vali_loader):\n",
    "        VALI_OUT = model(VALI_IN)\n",
    "        loss = criterion(VALI_OUT,VALI_TEST)\n",
    "\n",
    "        loss_pure = loss.detach().item()\n",
    "        loss_base = criterion(VALI_TEST,VALI_TEST).detach().item()\n",
    "        vali_losses.append((loss_pure - loss_base)/loss_base)\n",
    "\n",
    "np.save('EXP2_dump/markov_matrix',transP)\n",
    "np.save('EXP2_dump/arriving_lambda',lams)\n",
    "np.save('EXP2_dump/bottleneck_train_loss', training_losses)\n",
    "np.save('EXP2_dump/bottleneck_vali_loss', vali_losses)\n",
    "torch.save(model, \"EXP2_dump/bottleneck_model.pth\")"
   ]
  },
  {
   "cell_type": "code",
   "execution_count": 2,
   "id": "32288a31",
   "metadata": {},
   "outputs": [
    {
     "data": {
      "text/plain": [
       "[<matplotlib.lines.Line2D at 0x1ac90cfddc0>]"
      ]
     },
     "execution_count": 2,
     "metadata": {},
     "output_type": "execute_result"
    },
    {
     "data": {
      "image/png": "[encoded data removed]",
      "text/plain": [
       "<Figure size 432x288 with 1 Axes>"
      ]
     },
     "metadata": {
      "needs_background": "light"
     },
     "output_type": "display_data"
    }
   ],
   "source": [
    "train_loss = np.load('EXP2_dump/bottleneck_train_loss.npy')\n",
    "plt.plot(train_loss)"
   ]
  },
  {
   "cell_type": "code",
   "execution_count": 3,
   "id": "a90e3a0e",
   "metadata": {},
   "outputs": [
    {
     "data": {
      "text/plain": [
       "[<matplotlib.lines.Line2D at 0x1ac90e68a90>]"
      ]
     },
     "execution_count": 3,
     "metadata": {},
     "output_type": "execute_result"
    },
    {
     "data": {
      "image/png": "[encoded data removed]",
      "text/plain": [
       "<Figure size 432x288 with 1 Axes>"
      ]
     },
     "metadata": {
      "needs_background": "light"
     },
     "output_type": "display_data"
    }
   ],
   "source": [
    "vali_loss = np.load('EXP2_dump/bottleneck_vali_loss.npy')\n",
    "plt.plot(vali_loss)"
   ]
  },
  {
   "cell_type": "markdown",
   "id": "e4f9fd34",
   "metadata": {},
   "source": [
    "## We ask, why would this loss go all the way to nearly 0?"
   ]
  },
  {
   "cell_type": "code",
   "execution_count": 9,
   "id": "ed5b4b5e",
   "metadata": {},
   "outputs": [
    {
     "data": {
      "text/plain": [
       "(array([ 2.,  3.,  5., 11., 13., 22., 23.,  8.,  8.,  5.]),\n",
       " array([0.00489897, 0.00554083, 0.00618268, 0.00682454, 0.00746639,\n",
       "        0.00810825, 0.0087501 , 0.00939196, 0.01003381, 0.01067567,\n",
       "        0.01131752]),\n",
       " <BarContainer object of 10 artists>)"
      ]
     },
     "execution_count": 9,
     "metadata": {},
     "output_type": "execute_result"
    },
    {
     "data": {
      "image/png": "[encoded data removed]",
      "text/plain": [
       "<Figure size 432x288 with 1 Axes>"
      ]
     },
     "metadata": {
      "needs_background": "light"
     },
     "output_type": "display_data"
    }
   ],
   "source": [
    "import AssortmentGenerator as AG\n",
    "import MarkovGenerator as MG\n",
    "import Models\n",
    "import time\n",
    "\n",
    "import numpy as np\n",
    "import torch\n",
    "import torch.nn as nn\n",
    "\n",
    "from torch import optim\n",
    "from torch.utils.data import Dataset, DataLoader, TensorDataset\n",
    "import matplotlib.pyplot as plt\n",
    "\n",
    "N_prod = 250        # number of products\n",
    "Vec_Len = N_prod + 1\n",
    "\n",
    "SAMPLE_AMOUNT = 100\n",
    "\n",
    "# generate latent parameters\n",
    "transP = MG.GenMarkovM(\n",
    "    product_num = N_prod,\n",
    "    gen_func = lambda x : MG.GenTransprob_Sparse(x)\n",
    ")\n",
    "lams = np.random.uniform(low = 0, high = 1, size = N_prod)\n",
    "lams = lams / sum(lams)\n",
    "\n",
    "# generate synthetic data\n",
    "INPUT = np.zeros((SAMPLE_AMOUNT,Vec_Len))\n",
    "OUTPUT = np.zeros((SAMPLE_AMOUNT,Vec_Len))\n",
    "\n",
    "OUTPUT_BCE = np.zeros(SAMPLE_AMOUNT)\n",
    "\n",
    "num_assort = np.zeros(SAMPLE_AMOUNT)\n",
    "for i in range(SAMPLE_AMOUNT):\n",
    "    \n",
    "    assort = AG.GenAssortment_Sparse(N_prod)\n",
    "    num_assort[i] = sum(assort)\n",
    "    \n",
    "    INPUT[i] = AG.Product_0(assort)\n",
    "    OUTPUT[i] = MG.Absorbing_Calculator(lams, transP, assort)\n",
    "    \n",
    "    s=0\n",
    "    for p in OUTPUT[i]:\n",
    "        if p > 1e-6 and p < 1-1e-6:\n",
    "            s += -p*np.log(p) - (1-p)*np.log(1-p)\n",
    "            \n",
    "    OUTPUT_BCE[i] = s/Vec_Len\n",
    "\n",
    "plt.hist(OUTPUT_BCE)\n"
   ]
  },
  {
   "cell_type": "code",
   "execution_count": null,
   "id": "4e458814",
   "metadata": {},
   "outputs": [],
   "source": []
  }
 ],
 "metadata": {
  "kernelspec": {
   "display_name": "Python 3 (ipykernel)",
   "language": "python",
   "name": "python3"
  },
  "language_info": {
   "codemirror_mode": {
    "name": "ipython",
    "version": 3
   },
   "file_extension": ".py",
   "mimetype": "text/x-python",
   "name": "python",
   "nbconvert_exporter": "python",
   "pygments_lexer": "ipython3",
   "version": "3.9.7"
  }
 },
 "nbformat": 4,
 "nbformat_minor": 5
}
