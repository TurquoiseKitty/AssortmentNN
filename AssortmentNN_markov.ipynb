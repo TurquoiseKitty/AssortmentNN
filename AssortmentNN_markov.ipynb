{
 "cells": [
  {
   "cell_type": "markdown",
   "id": "fc9208a0",
   "metadata": {},
   "source": [
    "## Start with a markov model "
   ]
  },
  {
   "cell_type": "code",
   "execution_count": 106,
   "id": "5943ae6d",
   "metadata": {},
   "outputs": [
    {
     "data": {
      "text/plain": [
       "array([0.25409705, 0.        , 0.4       , 0.34590295, 0.        ,\n",
       "       0.        ])"
      ]
     },
     "execution_count": 106,
     "metadata": {},
     "output_type": "execute_result"
    }
   ],
   "source": [
    "import numpy as np\n",
    "\n",
    "# position 0 is always an absorbing state\n",
    "\n",
    "# a transition matrix would satisfy, each row sums to 1\n",
    "\n",
    "# for convenience, N will indicate N potential products, but the actual matrix will be (n+1)*(n+1) due to potision 0\n",
    "def gen_transition(N):\n",
    "    base = np.identity(N+1)\n",
    "    \n",
    "    sub_M = np.random.uniform(low=0., high=1, size=(N, N))\n",
    "    \n",
    "    sub_M[sub_M < 1 - 1/np.sqrt(N)]=0   # to maintain a sparse structure\n",
    "    \n",
    "    base[1:N+1,1:N+1] = sub_M\n",
    "    \n",
    "    base[1:N+1,0] = np.random.uniform(low=0.1, high=0.3, size = N)\n",
    "    \n",
    "    base = base / base.sum(axis=1, keepdims = True)\n",
    "    \n",
    "    return base\n",
    "\n",
    "# share the probability on diagonal to other places\n",
    "def gen_transition_nodiag(N):\n",
    "    mat = gen_transition(N)\n",
    "    for i in range(1,N+1):\n",
    "        mat[i,i]=0\n",
    "        \n",
    "    mat = mat / mat.sum(axis=1, keepdims = True)\n",
    "    return mat\n",
    "\n",
    "# utilitiy, from probability vector to index_indicator\n",
    "def indicator(probs):\n",
    "    if not sum(probs) > 1.0 - 1e-6 and sum(probs) < 1.0 + 1e-6:\n",
    "        print(\"WRONG PROBABILITY!\")\n",
    "        return\n",
    "    index = np.random.choice(len(probs), 1, p=probs)[0]\n",
    "    indicate = np.zeros(len(probs))\n",
    "    indicate[index] = 1\n",
    "    return indicate\n",
    "\n",
    "\n",
    "# transition matrix should be given in advance, for sure!\n",
    "# given an assortment, generate a hitting sample\n",
    "def single_sample_generator(Lams, TransP, Assorts):\n",
    "    Lams = np.insert(Lams, 0, 0)\n",
    "    Assorts = np.insert(Assorts, 0, 0)\n",
    "    choice = indicator(Lams)\n",
    "    while True:\n",
    "        if choice[0] == 1 or np.dot(choice, Assorts)>0:\n",
    "            return choice\n",
    "        else:\n",
    "            choice_prob = TransP[np.squeeze(np.argwhere(choice == 1))]\n",
    "            choice = indicator(choice_prob)\n",
    "\n",
    "def multi_sample_generator(Lams, TransP, Assorts, sampleN):\n",
    "    N = len(Lams)\n",
    "    choices = np.zeros((sampleN,N+1))\n",
    "    for i in range(sampleN):\n",
    "        choices[i] = single_sample_generator(Lams, TransP, Assorts)\n",
    "        \n",
    "    return choices\n",
    "    \n",
    "# the exact probability for product choice    \n",
    "def actual_prob(Lams, TransP, Assorts):\n",
    "    Lams = np.insert(Lams, 0, 0)\n",
    "    Assorts = np.insert(Assorts, 0, 1)\n",
    "    S_plus = np.squeeze(np.argwhere(Assorts == 1),axis=1)\n",
    "    S_bar = np.squeeze(np.argwhere(Assorts == 0),axis=1)\n",
    "    B = TransP[np.expand_dims(S_bar, axis=1), S_plus]\n",
    "    C = TransP[np.expand_dims(S_bar, axis=1), S_bar]\n",
    "    \n",
    "    distri = np.zeros(len(Lams)+1)\n",
    "    \n",
    "    addi = np.matmul(np.matmul(np.expand_dims(Lams[S_bar], axis=0), np.linalg.inv(np.identity(len(C)) - C)), B)\n",
    "    \n",
    "    count = 0\n",
    "    for i in S_plus:\n",
    "        distri[i] = Lams[i] + addi[0,count]\n",
    "        count += 1\n",
    "\n",
    "    return distri\n",
    "    \n",
    "    \n",
    "\n",
    "    \n",
    "transP = gen_transition_nodiag(4)\n",
    "lams = np.array([0.1,0.4,0.3,0.2])\n",
    "assortment = np.array([0,1,1,0])\n",
    "# bundle = np.squeeze(np.argwhere(assortment == 1))\n",
    "actual_prob(lams, transP, assortment)"
   ]
  },
  {
   "cell_type": "markdown",
   "id": "d28c0e88",
   "metadata": {},
   "source": [
    "##  We use multi_sample_generator to test actual_prob"
   ]
  },
  {
   "cell_type": "code",
   "execution_count": 107,
   "id": "2f7e492a",
   "metadata": {},
   "outputs": [
    {
     "name": "stdout",
     "output_type": "stream",
     "text": [
      "[0. 1. 0. 1. 0. 1. 1. 0. 1. 0.]\n",
      "[0.05880171 0.         0.13522966 0.         0.20684795 0.\n",
      " 0.2202711  0.18126796 0.         0.19758162 0.         0.        ]\n"
     ]
    },
    {
     "data": {
      "text/plain": [
       "array([ 613.,    0., 1338.,    0., 2100.,    0., 2205., 1807.,    0.,\n",
       "       1937.,    0.])"
      ]
     },
     "execution_count": 107,
     "metadata": {},
     "output_type": "execute_result"
    }
   ],
   "source": [
    "transP = gen_transition_nodiag(10)\n",
    "lams = np.array([0.1]*10)\n",
    "assortment = np.zeros(10)\n",
    "assortment[[1,3,5,6,8]]=1\n",
    "print(assortment)\n",
    "\n",
    "# bundle = np.squeeze(np.argwhere(assortment == 1))\n",
    "print(actual_prob(lams, transP, assortment))\n",
    "\n",
    "data = np.sum(multi_sample_generator(lams, transP, assortment, 10000), axis=0)\n",
    "data"
   ]
  },
  {
   "cell_type": "markdown",
   "id": "74f67c1b",
   "metadata": {},
   "source": [
    "## After the checks above, we start building the network to check its representation power"
   ]
  },
  {
   "cell_type": "markdown",
   "id": "fa644a69",
   "metadata": {},
   "source": [
    "### start with some experiments"
   ]
  },
  {
   "cell_type": "code",
   "execution_count": 1,
   "id": "d1742802",
   "metadata": {},
   "outputs": [
    {
     "ename": "OSError",
     "evalue": "dlopen(/Users/turquoisekitty/opt/anaconda3/envs/working/lib/python3.8/site-packages/torch/lib/libtorch_global_deps.dylib, 10): Library not loaded: @rpath/libmkl_intel_thread.dylib\n  Referenced from: /Users/turquoisekitty/opt/anaconda3/envs/working/lib/python3.8/site-packages/torch/lib/libtorch_global_deps.dylib\n  Reason: image not found",
     "output_type": "error",
     "traceback": [
      "\u001b[0;31m---------------------------------------------------------------------------\u001b[0m",
      "\u001b[0;31mOSError\u001b[0m                                   Traceback (most recent call last)",
      "\u001b[0;32m<ipython-input-1-a933ad8ccfc6>\u001b[0m in \u001b[0;36m<module>\u001b[0;34m\u001b[0m\n\u001b[0;32m----> 1\u001b[0;31m \u001b[0;32mimport\u001b[0m \u001b[0mtorch\u001b[0m\u001b[0;34m\u001b[0m\u001b[0;34m\u001b[0m\u001b[0m\n\u001b[0m\u001b[1;32m      2\u001b[0m \u001b[0;32mimport\u001b[0m \u001b[0mtorch\u001b[0m\u001b[0;34m.\u001b[0m\u001b[0mnn\u001b[0m \u001b[0;32mas\u001b[0m \u001b[0mnn\u001b[0m\u001b[0;34m\u001b[0m\u001b[0;34m\u001b[0m\u001b[0m\n",
      "\u001b[0;32m~/opt/anaconda3/envs/working/lib/python3.8/site-packages/torch/__init__.py\u001b[0m in \u001b[0;36m<module>\u001b[0;34m\u001b[0m\n\u001b[1;32m    194\u001b[0m     \u001b[0;31m# See Note [Global dependencies]\u001b[0m\u001b[0;34m\u001b[0m\u001b[0;34m\u001b[0m\u001b[0;34m\u001b[0m\u001b[0m\n\u001b[1;32m    195\u001b[0m     \u001b[0;32mif\u001b[0m \u001b[0mUSE_GLOBAL_DEPS\u001b[0m\u001b[0;34m:\u001b[0m\u001b[0;34m\u001b[0m\u001b[0;34m\u001b[0m\u001b[0m\n\u001b[0;32m--> 196\u001b[0;31m         \u001b[0m_load_global_deps\u001b[0m\u001b[0;34m(\u001b[0m\u001b[0;34m)\u001b[0m\u001b[0;34m\u001b[0m\u001b[0;34m\u001b[0m\u001b[0m\n\u001b[0m\u001b[1;32m    197\u001b[0m     \u001b[0;32mfrom\u001b[0m \u001b[0mtorch\u001b[0m\u001b[0;34m.\u001b[0m\u001b[0m_C\u001b[0m \u001b[0;32mimport\u001b[0m \u001b[0;34m*\u001b[0m  \u001b[0;31m# noqa: F403\u001b[0m\u001b[0;34m\u001b[0m\u001b[0;34m\u001b[0m\u001b[0m\n\u001b[1;32m    198\u001b[0m \u001b[0;34m\u001b[0m\u001b[0m\n",
      "\u001b[0;32m~/opt/anaconda3/envs/working/lib/python3.8/site-packages/torch/__init__.py\u001b[0m in \u001b[0;36m_load_global_deps\u001b[0;34m()\u001b[0m\n\u001b[1;32m    147\u001b[0m     \u001b[0mlib_path\u001b[0m \u001b[0;34m=\u001b[0m \u001b[0mos\u001b[0m\u001b[0;34m.\u001b[0m\u001b[0mpath\u001b[0m\u001b[0;34m.\u001b[0m\u001b[0mjoin\u001b[0m\u001b[0;34m(\u001b[0m\u001b[0mos\u001b[0m\u001b[0;34m.\u001b[0m\u001b[0mpath\u001b[0m\u001b[0;34m.\u001b[0m\u001b[0mdirname\u001b[0m\u001b[0;34m(\u001b[0m\u001b[0mhere\u001b[0m\u001b[0;34m)\u001b[0m\u001b[0;34m,\u001b[0m \u001b[0;34m'lib'\u001b[0m\u001b[0;34m,\u001b[0m \u001b[0mlib_name\u001b[0m\u001b[0;34m)\u001b[0m\u001b[0;34m\u001b[0m\u001b[0;34m\u001b[0m\u001b[0m\n\u001b[1;32m    148\u001b[0m \u001b[0;34m\u001b[0m\u001b[0m\n\u001b[0;32m--> 149\u001b[0;31m     \u001b[0mctypes\u001b[0m\u001b[0;34m.\u001b[0m\u001b[0mCDLL\u001b[0m\u001b[0;34m(\u001b[0m\u001b[0mlib_path\u001b[0m\u001b[0;34m,\u001b[0m \u001b[0mmode\u001b[0m\u001b[0;34m=\u001b[0m\u001b[0mctypes\u001b[0m\u001b[0;34m.\u001b[0m\u001b[0mRTLD_GLOBAL\u001b[0m\u001b[0;34m)\u001b[0m\u001b[0;34m\u001b[0m\u001b[0;34m\u001b[0m\u001b[0m\n\u001b[0m\u001b[1;32m    150\u001b[0m \u001b[0;34m\u001b[0m\u001b[0m\n\u001b[1;32m    151\u001b[0m \u001b[0;34m\u001b[0m\u001b[0m\n",
      "\u001b[0;32m~/opt/anaconda3/envs/working/lib/python3.8/ctypes/__init__.py\u001b[0m in \u001b[0;36m__init__\u001b[0;34m(self, name, mode, handle, use_errno, use_last_error, winmode)\u001b[0m\n\u001b[1;32m    371\u001b[0m \u001b[0;34m\u001b[0m\u001b[0m\n\u001b[1;32m    372\u001b[0m         \u001b[0;32mif\u001b[0m \u001b[0mhandle\u001b[0m \u001b[0;32mis\u001b[0m \u001b[0;32mNone\u001b[0m\u001b[0;34m:\u001b[0m\u001b[0;34m\u001b[0m\u001b[0;34m\u001b[0m\u001b[0m\n\u001b[0;32m--> 373\u001b[0;31m             \u001b[0mself\u001b[0m\u001b[0;34m.\u001b[0m\u001b[0m_handle\u001b[0m \u001b[0;34m=\u001b[0m \u001b[0m_dlopen\u001b[0m\u001b[0;34m(\u001b[0m\u001b[0mself\u001b[0m\u001b[0;34m.\u001b[0m\u001b[0m_name\u001b[0m\u001b[0;34m,\u001b[0m \u001b[0mmode\u001b[0m\u001b[0;34m)\u001b[0m\u001b[0;34m\u001b[0m\u001b[0;34m\u001b[0m\u001b[0m\n\u001b[0m\u001b[1;32m    374\u001b[0m         \u001b[0;32melse\u001b[0m\u001b[0;34m:\u001b[0m\u001b[0;34m\u001b[0m\u001b[0;34m\u001b[0m\u001b[0m\n\u001b[1;32m    375\u001b[0m             \u001b[0mself\u001b[0m\u001b[0;34m.\u001b[0m\u001b[0m_handle\u001b[0m \u001b[0;34m=\u001b[0m \u001b[0mhandle\u001b[0m\u001b[0;34m\u001b[0m\u001b[0;34m\u001b[0m\u001b[0m\n",
      "\u001b[0;31mOSError\u001b[0m: dlopen(/Users/turquoisekitty/opt/anaconda3/envs/working/lib/python3.8/site-packages/torch/lib/libtorch_global_deps.dylib, 10): Library not loaded: @rpath/libmkl_intel_thread.dylib\n  Referenced from: /Users/turquoisekitty/opt/anaconda3/envs/working/lib/python3.8/site-packages/torch/lib/libtorch_global_deps.dylib\n  Reason: image not found"
     ]
    }
   ],
   "source": [
    "import torch\n",
    "import torch.nn as nn"
   ]
  },
  {
   "cell_type": "code",
   "execution_count": null,
   "id": "0cef4116",
   "metadata": {},
   "outputs": [],
   "source": []
  }
 ],
 "metadata": {
  "kernelspec": {
   "display_name": "Python 3",
   "language": "python",
   "name": "python3"
  },
  "language_info": {
   "codemirror_mode": {
    "name": "ipython",
    "version": 3
   },
   "file_extension": ".py",
   "mimetype": "text/x-python",
   "name": "python",
   "nbconvert_exporter": "python",
   "pygments_lexer": "ipython3",
   "version": "3.8.2"
  }
 },
 "nbformat": 4,
 "nbformat_minor": 5
}
