{
 "cells": [
  {
   "cell_type": "markdown",
   "id": "79736c2f",
   "metadata": {},
   "source": [
    "## we compare EXP2 with a silly model"
   ]
  },
  {
   "cell_type": "code",
   "execution_count": 2,
   "id": "b00f6cfb",
   "metadata": {},
   "outputs": [
    {
     "name": "stderr",
     "output_type": "stream",
     "text": [
      "D:\\SOFTWARE\\ANACONDA\\lib\\site-packages\\torch\\nn\\_reduction.py:42: UserWarning: size_average and reduce args will be deprecated, please use reduction='none' instead.\n",
      "  warnings.warn(warning.format(ret))\n"
     ]
    },
    {
     "data": {
      "text/plain": [
       "(array([1.56512e+05, 6.68070e+04, 1.42050e+04, 1.00180e+04, 2.74900e+03,\n",
       "        3.41000e+02, 1.53000e+02, 7.10000e+01, 4.80000e+01, 9.60000e+01]),\n",
       " array([1.5258284e-05, 2.0001373e-01, 4.0001220e-01, 6.0001069e-01,\n",
       "        8.0000913e-01, 1.0000076e+00, 1.2000061e+00, 1.4000046e+00,\n",
       "        1.6000030e+00, 1.8000015e+00, 2.0000000e+00], dtype=float32),\n",
       " <BarContainer object of 10 artists>)"
      ]
     },
     "execution_count": 2,
     "metadata": {},
     "output_type": "execute_result"
    },
    {
     "data": {
      "image/png": "[encoded data removed]",
      "text/plain": [
       "<Figure size 432x288 with 1 Axes>"
      ]
     },
     "metadata": {
      "needs_background": "light"
     },
     "output_type": "display_data"
    }
   ],
   "source": [
    "import AssortmentGenerator as AG\n",
    "import MarkovGenerator as MG\n",
    "import Models\n",
    "import time\n",
    "\n",
    "import numpy as np\n",
    "import torch\n",
    "import torch.nn as nn\n",
    "\n",
    "from torch import optim\n",
    "from torch.utils.data import Dataset, DataLoader, TensorDataset\n",
    "import matplotlib.pyplot as plt\n",
    "\n",
    "N_prod = 250        # number of products\n",
    "Vec_Len = N_prod + 1\n",
    "Neck_Len = 30       # bottle neck width\n",
    "SAMPLE_AMOUNT = 1000\n",
    "\n",
    "\n",
    "transP = np.load(\"EXP2_dump/markov_matrix.npy\")\n",
    "lams = np.load(\"EXP2_dump/arriving_lambda.npy\")\n",
    "\n",
    "model = torch.load(\"EXP2_dump/bottleneck_model.pth\")\n",
    "\n",
    "# generate synthetic data\n",
    "INPUT = np.zeros((SAMPLE_AMOUNT,Vec_Len))\n",
    "OUTPUT = np.zeros((SAMPLE_AMOUNT,Vec_Len))\n",
    "for i in range(SAMPLE_AMOUNT):\n",
    "    assort = AG.GenAssortment_Sparse(N_prod)    \n",
    "    INPUT[i] = AG.Product_0(assort)\n",
    "    OUTPUT[i] = MG.Absorbing_Calculator(lams, transP, assort)\n",
    "    \n",
    "INPUT=torch.Tensor(INPUT)\n",
    "OUTPUT = torch.Tensor(OUTPUT)\n",
    "\n",
    "MODEL_OUT = model(INPUT)\n",
    "\n",
    "RELATIVE_LOSS = nn.functional.l1_loss(OUTPUT, MODEL_OUT, size_average=False, reduce = False, reduction = None) / torch.clamp(OUTPUT, min = 1/Vec_Len)\n",
    "\n",
    "losses = torch.clamp(torch.reshape(RELATIVE_LOSS,(-1,)), max=2).detach().numpy()\n",
    "\n",
    "plt.hist(losses)"
   ]
  },
  {
   "cell_type": "markdown",
   "id": "db070623",
   "metadata": {},
   "source": [
    "## Dense"
   ]
  },
  {
   "cell_type": "code",
   "execution_count": 6,
   "id": "46c4a839",
   "metadata": {},
   "outputs": [
    {
     "data": {
      "text/plain": [
       "(array([110553., 111226., 105057.,  73255.,  40676.,  15793.,  10188.,\n",
       "          6892.,   4828.,  23532.]),\n",
       " array([1.2272503e-06, 2.0000111e-01, 4.0000099e-01, 6.0000086e-01,\n",
       "        8.0000073e-01, 1.0000006e+00, 1.2000005e+00, 1.4000003e+00,\n",
       "        1.6000003e+00, 1.8000001e+00, 2.0000000e+00], dtype=float32),\n",
       " <BarContainer object of 10 artists>)"
      ]
     },
     "execution_count": 6,
     "metadata": {},
     "output_type": "execute_result"
    },
    {
     "data": {
      "image/png": "[encoded data removed]",
      "text/plain": [
       "<Figure size 432x288 with 1 Axes>"
      ]
     },
     "metadata": {
      "needs_background": "light"
     },
     "output_type": "display_data"
    }
   ],
   "source": [
    "DENSE_AMOUNT = 2000\n",
    "\n",
    "\n",
    "INPUT = np.zeros((DENSE_AMOUNT,Vec_Len))\n",
    "OUTPUT = np.zeros((DENSE_AMOUNT,Vec_Len))\n",
    "for i in range(DENSE_AMOUNT):\n",
    "    assort = AG.GenAssortment_Fixed(N_prod, fixed_num = N_prod-1)    \n",
    "    INPUT[i] = AG.Product_0(assort)\n",
    "    OUTPUT[i] = MG.Absorbing_Calculator(lams, transP, assort)\n",
    "\n",
    "\n",
    "INPUT=torch.Tensor(INPUT)\n",
    "OUTPUT = torch.Tensor(OUTPUT)\n",
    "\n",
    "MODEL_OUT = model(INPUT)\n",
    "\n",
    "RELATIVE_LOSS = nn.functional.l1_loss(OUTPUT, MODEL_OUT, size_average=False, reduce = False, reduction = None) / torch.clamp(OUTPUT, min = 1/Vec_Len)\n",
    "\n",
    "losses = torch.clamp(torch.reshape(RELATIVE_LOSS,(-1,)), max=2).detach().numpy()\n",
    "\n",
    "plt.hist(losses)"
   ]
  },
  {
   "cell_type": "markdown",
   "id": "a3da2919",
   "metadata": {},
   "source": [
    "## Silly model"
   ]
  },
  {
   "cell_type": "code",
   "execution_count": 8,
   "id": "a34e8787",
   "metadata": {},
   "outputs": [
    {
     "data": {
      "text/plain": [
       "(array([114508.,  95981.,  85374.,  75620.,  66492.,  22420.,  16989.,\n",
       "         12297.,   8749.,   3570.]),\n",
       " array([1.8116552e-06, 2.0000163e-01, 4.0000144e-01, 6.0000128e-01,\n",
       "        8.0000108e-01, 1.0000010e+00, 1.2000008e+00, 1.4000006e+00,\n",
       "        1.6000004e+00, 1.8000002e+00, 2.0000000e+00], dtype=float32),\n",
       " <BarContainer object of 10 artists>)"
      ]
     },
     "execution_count": 8,
     "metadata": {},
     "output_type": "execute_result"
    },
    {
     "data": {
      "image/png": "[encoded data removed]",
      "text/plain": [
       "<Figure size 432x288 with 1 Axes>"
      ]
     },
     "metadata": {
      "needs_background": "light"
     },
     "output_type": "display_data"
    }
   ],
   "source": [
    "INPUT = np.zeros((DENSE_AMOUNT,Vec_Len))\n",
    "OUTPUT = np.zeros((DENSE_AMOUNT,Vec_Len))\n",
    "for i in range(DENSE_AMOUNT):\n",
    "    assort = AG.GenAssortment_Fixed(N_prod, fixed_num = N_prod-1)    \n",
    "    INPUT[i] = AG.Product_0(assort)\n",
    "    OUTPUT[i] = MG.Absorbing_Calculator(lams, transP, assort)\n",
    "\n",
    "\n",
    "INPUT=torch.Tensor(INPUT)\n",
    "OUTPUT = torch.Tensor(OUTPUT)\n",
    "\n",
    "MODEL_OUT = Models.SillyModel(INPUT)\n",
    "\n",
    "RELATIVE_LOSS = nn.functional.l1_loss(OUTPUT, MODEL_OUT, size_average=False, reduce = False, reduction = None) / torch.clamp(OUTPUT, min = 1/Vec_Len)\n",
    "\n",
    "losses = torch.clamp(torch.reshape(RELATIVE_LOSS,(-1,)), max=2).detach().numpy()\n",
    "\n",
    "plt.hist(losses)"
   ]
  },
  {
   "cell_type": "code",
   "execution_count": 5,
   "id": "4ac6e039",
   "metadata": {},
   "outputs": [
    {
     "data": {
      "text/plain": [
       "(array([23548., 23659., 25001., 29628., 31951., 23600., 23415., 23667.,\n",
       "        23713., 22818.]),\n",
       " array([2.2528922e-05, 2.0002028e-01, 4.0001804e-01, 6.0001576e-01,\n",
       "        8.0001354e-01, 1.0000112e+00, 1.2000090e+00, 1.4000068e+00,\n",
       "        1.6000046e+00, 1.8000022e+00, 2.0000000e+00], dtype=float32),\n",
       " <BarContainer object of 10 artists>)"
      ]
     },
     "execution_count": 5,
     "metadata": {},
     "output_type": "execute_result"
    },
    {
     "data": {
      "image/png": "[encoded data removed]",
      "text/plain": [
       "<Figure size 432x288 with 1 Axes>"
      ]
     },
     "metadata": {
      "needs_background": "light"
     },
     "output_type": "display_data"
    }
   ],
   "source": [
    "# generate synthetic data\n",
    "INPUT = np.zeros((SAMPLE_AMOUNT,Vec_Len))\n",
    "OUTPUT = np.zeros((SAMPLE_AMOUNT,Vec_Len))\n",
    "for i in range(SAMPLE_AMOUNT):\n",
    "    assort = AG.GenAssortment_Sparse(N_prod)    \n",
    "    INPUT[i] = AG.Product_0(assort)\n",
    "    OUTPUT[i] = MG.Absorbing_Calculator(lams, transP, assort)\n",
    "    \n",
    "INPUT=torch.Tensor(INPUT)\n",
    "OUTPUT = torch.Tensor(OUTPUT)\n",
    "\n",
    "MODEL_OUT = Models.SillyModel(INPUT)\n",
    "\n",
    "RELATIVE_LOSS = nn.functional.l1_loss(OUTPUT, MODEL_OUT, size_average=False, reduce = False, reduction = None) / torch.clamp(OUTPUT, min = 1/Vec_Len)\n",
    "\n",
    "losses = torch.clamp(torch.reshape(RELATIVE_LOSS,(-1,)), max=2).detach().numpy()\n",
    "\n",
    "plt.hist(losses)"
   ]
  },
  {
   "cell_type": "code",
   "execution_count": null,
   "id": "c782ac4d",
   "metadata": {},
   "outputs": [],
   "source": []
  }
 ],
 "metadata": {
  "kernelspec": {
   "display_name": "Python 3 (ipykernel)",
   "language": "python",
   "name": "python3"
  },
  "language_info": {
   "codemirror_mode": {
    "name": "ipython",
    "version": 3
   },
   "file_extension": ".py",
   "mimetype": "text/x-python",
   "name": "python",
   "nbconvert_exporter": "python",
   "pygments_lexer": "ipython3",
   "version": "3.9.7"
  }
 },
 "nbformat": 4,
 "nbformat_minor": 5
}
