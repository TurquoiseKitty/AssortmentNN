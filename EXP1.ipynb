{
 "cells": [
  {
   "cell_type": "markdown",
   "id": "feebd70a",
   "metadata": {},
   "source": [
    "## A benchmark model: the bottleneck model"
   ]
  },
  {
   "cell_type": "code",
   "execution_count": 36,
   "id": "0137382a",
   "metadata": {},
   "outputs": [
    {
     "name": "stdout",
     "output_type": "stream",
     "text": [
      "epoch :  50\n",
      "epoch :  100\n",
      "epoch :  150\n",
      "epoch :  200\n",
      "epoch :  250\n",
      "epoch :  300\n",
      "epoch :  350\n",
      "epoch :  400\n",
      "epoch :  450\n",
      "epoch :  500\n",
      "epoch :  550\n",
      "epoch :  600\n",
      "epoch :  650\n",
      "epoch :  700\n",
      "epoch :  750\n",
      "epoch :  800\n",
      "epoch :  850\n",
      "epoch :  900\n",
      "epoch :  950\n",
      "epoch :  1000\n"
     ]
    }
   ],
   "source": [
    "import AssortmentGenerator as AG\n",
    "import MarkovGenerator as MG\n",
    "import Models\n",
    "\n",
    "import numpy as np\n",
    "import torch\n",
    "import torch.nn as nn\n",
    "\n",
    "from torch import optim\n",
    "from torch.utils.data import Dataset, DataLoader, TensorDataset\n",
    "import matplotlib.pyplot as plt\n",
    "\n",
    "\n",
    "N_prod = 10        # number of products\n",
    "Vec_Len = N_prod + 1\n",
    "Neck_Len = 5       # bottle neck width\n",
    "EPOCHS = 1000\n",
    "SAMPLE_AMOUNT = 10000\n",
    "BATCH_SIZE = 500\n",
    "TRAIN_VALI_RATE = 0.9\n",
    "ADAM_LR = 0.0005\n",
    "\n",
    "# generate latent parameters\n",
    "transP = MG.GenMarkovM(\n",
    "    product_num = N_prod,\n",
    "    gen_func = lambda x : MG.GenTransprob_Even(x)\n",
    ")\n",
    "lams = np.random.uniform(low = 0, high = 1, size = N_prod)\n",
    "lams = lams / sum(lams)\n",
    "\n",
    "# generate synthetic data\n",
    "INPUT = np.zeros((SAMPLE_AMOUNT,Vec_Len))\n",
    "OUTPUT = np.zeros((SAMPLE_AMOUNT,Vec_Len))\n",
    "for i in range(SAMPLE_AMOUNT):\n",
    "    # generate input vector, which has length vec_len\n",
    "    # the first element is 0, which should be ignored when treated as an assortment\n",
    "    assort = AG.GenAssortment_Even(N_prod)    \n",
    "    INPUT[i] = AG.Product_0(assort)\n",
    "    OUTPUT[i] = MG.Absorbing_Calculator(lams, transP, assort)\n",
    "\n",
    "train_dataset = TensorDataset(torch.Tensor(INPUT[:int(SAMPLE_AMOUNT * TRAIN_VALI_RATE)]),torch.Tensor(OUTPUT[:int(SAMPLE_AMOUNT * TRAIN_VALI_RATE)]))    \n",
    "vali_dataset = TensorDataset(torch.Tensor(INPUT[int(SAMPLE_AMOUNT * TRAIN_VALI_RATE):]),torch.Tensor(OUTPUT[int(SAMPLE_AMOUNT * TRAIN_VALI_RATE):]))    \n",
    "\n",
    "train_loader = DataLoader(train_dataset, shuffle=True, batch_size = BATCH_SIZE)\n",
    "vali_loader = DataLoader(vali_dataset, shuffle=True, batch_size = len(vali_dataset))\n",
    "\n",
    "model = Models.Bottleneck(Vec_Len, Neck_Len)\n",
    "optimizer = optim.Adam(model.parameters(), lr = ADAM_LR)\n",
    "criterion = nn.BCELoss()\n",
    "\n",
    "training_losses = []\n",
    "vali_losses = []\n",
    "\n",
    "for epo in range(1,EPOCHS+1):\n",
    "    if epo % 50 == 0:\n",
    "        print(\"epoch : \",epo)\n",
    "    for step, (IN, TEST) in enumerate(train_loader):\n",
    "        OUT = model(IN)\n",
    "        loss = criterion(OUT,TEST)\n",
    "        optimizer.zero_grad()\n",
    "        loss.backward()\n",
    "        optimizer.step()\n",
    "        \n",
    "        training_losses.append(loss.detach().item())\n",
    "        \n",
    "    for step, (VALI_IN, VALI_TEST) in enumerate(vali_loader):\n",
    "        VALI_OUT = model(VALI_IN)\n",
    "        loss = criterion(VALI_OUT,VALI_TEST)\n",
    "\n",
    "        vali_losses.append(loss.detach().item())\n",
    "\n",
    "\n",
    "np.save('EXP1_dump/bottleneck_train_loss', training_losses)\n",
    "np.save('EXP1_dump/bottleneck_vali_loss', vali_losses)\n",
    "torch.save(model, \"EXP1_dump/bottleneck_model.pth\")"
   ]
  },
  {
   "cell_type": "code",
   "execution_count": 3,
   "id": "32288a31",
   "metadata": {},
   "outputs": [
    {
     "data": {
      "text/plain": [
       "[<matplotlib.lines.Line2D at 0x205b9436160>]"
      ]
     },
     "execution_count": 3,
     "metadata": {},
     "output_type": "execute_result"
    },
    {
     "data": {
      "image/png": "[encoded data removed]",
      "text/plain": [
       "<Figure size 432x288 with 1 Axes>"
      ]
     },
     "metadata": {
      "needs_background": "light"
     },
     "output_type": "display_data"
    }
   ],
   "source": [
    "import numpy as np\n",
    "import matplotlib.pyplot as plt\n",
    "\n",
    "train_loss = np.load('EXP1_dump/bottleneck_train_loss.npy')\n",
    "plt.plot(train_loss)"
   ]
  },
  {
   "cell_type": "code",
   "execution_count": 4,
   "id": "a90e3a0e",
   "metadata": {},
   "outputs": [
    {
     "data": {
      "text/plain": [
       "[<matplotlib.lines.Line2D at 0x205b9541160>]"
      ]
     },
     "execution_count": 4,
     "metadata": {},
     "output_type": "execute_result"
    },
    {
     "data": {
      "image/png": "[encoded data removed]",
      "text/plain": [
       "<Figure size 432x288 with 1 Axes>"
      ]
     },
     "metadata": {
      "needs_background": "light"
     },
     "output_type": "display_data"
    }
   ],
   "source": [
    "vali_loss = np.load('EXP1_dump/bottleneck_vali_loss.npy')\n",
    "plt.plot(vali_loss)"
   ]
  },
  {
   "cell_type": "code",
   "execution_count": null,
   "id": "1b7c4d27",
   "metadata": {},
   "outputs": [],
   "source": []
  }
 ],
 "metadata": {
  "kernelspec": {
   "display_name": "Python 3 (ipykernel)",
   "language": "python",
   "name": "python3"
  },
  "language_info": {
   "codemirror_mode": {
    "name": "ipython",
    "version": 3
   },
   "file_extension": ".py",
   "mimetype": "text/x-python",
   "name": "python",
   "nbconvert_exporter": "python",
   "pygments_lexer": "ipython3",
   "version": "3.9.7"
  }
 },
 "nbformat": 4,
 "nbformat_minor": 5
}
