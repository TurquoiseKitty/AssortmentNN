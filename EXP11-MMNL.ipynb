{
 "cells": [
  {
   "cell_type": "markdown",
   "id": "dadb3ddd",
   "metadata": {},
   "source": [
    "## Mixture of log likelihood model"
   ]
  },
  {
   "cell_type": "code",
   "execution_count": 2,
   "id": "24f3cf7f",
   "metadata": {},
   "outputs": [
    {
     "name": "stdout",
     "output_type": "stream",
     "text": [
      "data generated!\n",
      "total time elapse :  11.295471906661987\n"
     ]
    },
    {
     "name": "stderr",
     "output_type": "stream",
     "text": [
      "/opt/anaconda3/lib/python3.9/site-packages/torch/nn/_reduction.py:42: UserWarning: size_average and reduce args will be deprecated, please use reduction='none' instead.\n",
      "  warnings.warn(warning.format(ret))\n"
     ]
    },
    {
     "name": "stdout",
     "output_type": "stream",
     "text": [
      "epoch :  50\n",
      "epoch :  100\n",
      "epoch :  150\n",
      "epoch :  200\n",
      "epoch :  250\n",
      "epoch :  300\n",
      "epoch :  350\n",
      "epoch :  400\n",
      "epoch :  450\n",
      "epoch :  500\n",
      "epoch :  550\n",
      "epoch :  600\n",
      "epoch :  650\n",
      "epoch :  700\n",
      "epoch :  750\n",
      "epoch :  800\n",
      "epoch :  850\n",
      "epoch :  900\n",
      "epoch :  950\n",
      "epoch :  1000\n",
      "epoch :  1050\n",
      "epoch :  1100\n",
      "epoch :  1150\n",
      "epoch :  1200\n",
      "epoch :  1250\n",
      "epoch :  1300\n",
      "epoch :  1350\n",
      "epoch :  1400\n",
      "epoch :  1450\n",
      "epoch :  1500\n",
      "epoch :  1550\n",
      "epoch :  1600\n",
      "epoch :  1650\n",
      "epoch :  1700\n",
      "epoch :  1750\n",
      "epoch :  1800\n",
      "epoch :  1850\n",
      "epoch :  1900\n",
      "epoch :  1950\n",
      "epoch :  2000\n",
      "epoch :  2050\n",
      "epoch :  2100\n",
      "epoch :  2150\n",
      "epoch :  2200\n",
      "epoch :  2250\n",
      "epoch :  2300\n",
      "epoch :  2350\n",
      "epoch :  2400\n",
      "epoch :  2450\n",
      "epoch :  2500\n",
      "epoch :  2550\n",
      "epoch :  2600\n",
      "epoch :  2650\n",
      "epoch :  2700\n",
      "epoch :  2750\n",
      "epoch :  2800\n",
      "epoch :  2850\n",
      "epoch :  2900\n",
      "epoch :  2950\n",
      "epoch :  3000\n",
      "epoch :  3050\n",
      "epoch :  3100\n",
      "epoch :  3150\n",
      "epoch :  3200\n",
      "epoch :  3250\n",
      "epoch :  3300\n",
      "epoch :  3350\n",
      "epoch :  3400\n",
      "epoch :  3450\n",
      "epoch :  3500\n",
      "epoch :  3550\n",
      "epoch :  3600\n",
      "epoch :  3650\n",
      "epoch :  3700\n",
      "epoch :  3750\n",
      "epoch :  3800\n",
      "epoch :  3850\n",
      "epoch :  3900\n",
      "epoch :  3950\n",
      "epoch :  4000\n",
      "epoch :  4050\n",
      "epoch :  4100\n",
      "epoch :  4150\n",
      "epoch :  4200\n",
      "epoch :  4250\n",
      "epoch :  4300\n",
      "epoch :  4350\n",
      "epoch :  4400\n",
      "epoch :  4450\n",
      "epoch :  4500\n",
      "epoch :  4550\n",
      "epoch :  4600\n",
      "epoch :  4650\n",
      "epoch :  4700\n",
      "epoch :  4750\n",
      "epoch :  4800\n",
      "epoch :  4850\n",
      "epoch :  4900\n",
      "epoch :  4950\n",
      "epoch :  5000\n",
      "epoch :  5050\n",
      "epoch :  5100\n",
      "epoch :  5150\n",
      "epoch :  5200\n",
      "epoch :  5250\n",
      "epoch :  5300\n",
      "epoch :  5350\n",
      "epoch :  5400\n",
      "epoch :  5450\n",
      "epoch :  5500\n",
      "epoch :  5550\n",
      "epoch :  5600\n",
      "epoch :  5650\n",
      "epoch :  5700\n",
      "epoch :  5750\n",
      "epoch :  5800\n",
      "epoch :  5850\n",
      "epoch :  5900\n",
      "epoch :  5950\n",
      "epoch :  6000\n",
      "epoch :  6050\n",
      "epoch :  6100\n",
      "epoch :  6150\n",
      "epoch :  6200\n",
      "epoch :  6250\n",
      "epoch :  6300\n",
      "epoch :  6350\n",
      "epoch :  6400\n",
      "epoch :  6450\n",
      "epoch :  6500\n",
      "epoch :  6550\n",
      "epoch :  6600\n",
      "epoch :  6650\n",
      "epoch :  6700\n",
      "epoch :  6750\n",
      "epoch :  6800\n",
      "epoch :  6850\n",
      "epoch :  6900\n",
      "epoch :  6950\n",
      "epoch :  7000\n",
      "epoch :  7050\n",
      "epoch :  7100\n",
      "epoch :  7150\n",
      "epoch :  7200\n",
      "epoch :  7250\n",
      "epoch :  7300\n",
      "epoch :  7350\n",
      "epoch :  7400\n",
      "epoch :  7450\n",
      "epoch :  7500\n",
      "epoch :  7550\n",
      "epoch :  7600\n",
      "epoch :  7650\n",
      "epoch :  7700\n",
      "epoch :  7750\n",
      "epoch :  7800\n",
      "epoch :  7850\n",
      "epoch :  7900\n",
      "epoch :  7950\n",
      "epoch :  8000\n",
      "epoch :  8050\n",
      "epoch :  8100\n",
      "epoch :  8150\n",
      "epoch :  8200\n",
      "epoch :  8250\n",
      "epoch :  8300\n",
      "epoch :  8350\n",
      "epoch :  8400\n",
      "epoch :  8450\n",
      "epoch :  8500\n",
      "epoch :  8550\n",
      "epoch :  8600\n",
      "epoch :  8650\n",
      "epoch :  8700\n",
      "epoch :  8750\n",
      "epoch :  8800\n",
      "epoch :  8850\n",
      "epoch :  8900\n",
      "epoch :  8950\n",
      "epoch :  9000\n",
      "epoch :  9050\n",
      "epoch :  9100\n",
      "epoch :  9150\n",
      "epoch :  9200\n",
      "epoch :  9250\n",
      "epoch :  9300\n",
      "epoch :  9350\n",
      "epoch :  9400\n",
      "epoch :  9450\n",
      "epoch :  9500\n",
      "epoch :  9550\n",
      "epoch :  9600\n",
      "epoch :  9650\n",
      "epoch :  9700\n",
      "epoch :  9750\n",
      "epoch :  9800\n",
      "epoch :  9850\n",
      "epoch :  9900\n",
      "epoch :  9950\n",
      "epoch :  10000\n"
     ]
    }
   ],
   "source": [
    "import AssortmentGenerator as AG\n",
    "import MarkovGenerator as MG\n",
    "import LatentSchemeGenerator as LSG\n",
    "import Models\n",
    "import time\n",
    "\n",
    "import numpy as np\n",
    "import torch\n",
    "import torch.nn as nn\n",
    "\n",
    "from torch import optim\n",
    "from torch.utils.data import Dataset, DataLoader, TensorDataset\n",
    "import matplotlib.pyplot as plt\n",
    "\n",
    "start_time = time.time()\n",
    "\n",
    "N_prod = 250        # number of products\n",
    "Vec_Len = N_prod + 1\n",
    "Neck_Len = 30       # bottle neck width\n",
    "\n",
    "N_MIX = 100 # is this mix number too large?\n",
    "\n",
    "EPOCHS = 10000\n",
    "SAMPLE_AMOUNT = 5000\n",
    "BATCH_SIZE = 100\n",
    "TRAIN_VALI_RATE = 0.9\n",
    "ADAM_LR = 0.0005\n",
    "\n",
    "# generate latent parameters\n",
    "latent_scheme = LSG.MMNL_generator(N_prod, N_MIX)\n",
    "np.save(\"EXP11_dump/MMNL_mix_para\",latent_scheme.mixture_para)\n",
    "np.save(\"EXP11_dump/MMNL_chos_para\",latent_scheme.choose_para)\n",
    "\n",
    "# generate synthetic data\n",
    "INPUT = np.zeros((SAMPLE_AMOUNT,Vec_Len))\n",
    "OUTPUT = np.zeros((SAMPLE_AMOUNT,Vec_Len))\n",
    "for i in range(SAMPLE_AMOUNT):\n",
    "    \n",
    "    # abundant generation\n",
    "    assort = AG.GenAssortment_Abundant(N_prod)\n",
    "        \n",
    "    INPUT[i] = AG.Product_0(assort)\n",
    "    \n",
    "    # what if use sample instead of actual prob?\n",
    "    OUTPUT[i] = latent_scheme.prob_for_assortment(assort)\n",
    "\n",
    "print(\"data generated!\")\n",
    "print(\"total time elapse : \",time.time()-start_time)\n",
    "\n",
    "model = Models.Bottleneck(Vec_Len, Neck_Len)\n",
    "\n",
    "train_dataset = TensorDataset(torch.Tensor(INPUT[:int(SAMPLE_AMOUNT * TRAIN_VALI_RATE)]),torch.Tensor(OUTPUT[:int(SAMPLE_AMOUNT * TRAIN_VALI_RATE)]))    \n",
    "vali_dataset = TensorDataset(torch.Tensor(INPUT[int(SAMPLE_AMOUNT * TRAIN_VALI_RATE):]),torch.Tensor(OUTPUT[int(SAMPLE_AMOUNT * TRAIN_VALI_RATE):]))    \n",
    "\n",
    "train_loader = DataLoader(train_dataset, shuffle=True, batch_size = BATCH_SIZE)\n",
    "vali_loader = DataLoader(vali_dataset, shuffle=True, batch_size = len(vali_dataset))\n",
    "\n",
    "optimizer = optim.Adam(model.parameters(), lr = ADAM_LR)\n",
    "criterion = nn.BCELoss()\n",
    "\n",
    "training_losses = []\n",
    "vali_losses = []\n",
    "\n",
    "for epo in range(1,EPOCHS+1):\n",
    "    if epo % 50 == 0:\n",
    "        print(\"epoch : \",epo)\n",
    "    for step, (IN, TEST) in enumerate(train_loader):\n",
    "        \n",
    "        OUT = model(IN)\n",
    "        loss = criterion(OUT,TEST)\n",
    "        optimizer.zero_grad()\n",
    "        loss.backward()\n",
    "        optimizer.step()\n",
    "        \n",
    "        loss_pure = loss.detach().item()\n",
    "        loss_base = criterion(TEST,TEST).detach().item()\n",
    "        training_losses.append((loss_pure - loss_base)/loss_base)\n",
    "        \n",
    "    for step, (VALI_IN, VALI_TEST) in enumerate(vali_loader):\n",
    "\n",
    "        VALI_OUT = model(VALI_IN)\n",
    "        \n",
    "        RELATIVE_LOSS = nn.functional.l1_loss(VALI_TEST, VALI_OUT, size_average=False, reduce = False, reduction = None) / torch.clamp(VALI_TEST, min = 1/Vec_Len)\n",
    "\n",
    "        losses = np.mean(torch.clamp(torch.reshape(RELATIVE_LOSS,(-1,)), max=4).detach().numpy())\n",
    "        \n",
    "        vali_losses = np.append(vali_losses,losses)\n",
    "\n",
    "np.save('EXP11_dump/bottleneck_train_loss', training_losses)\n",
    "np.save('EXP11_dump/bottleneck_vali_loss', vali_losses)\n",
    "torch.save(model, \"EXP11_dump/bottleneck_model.pth\")"
   ]
  },
  {
   "cell_type": "code",
   "execution_count": 11,
   "id": "733b1cf4",
   "metadata": {},
   "outputs": [
    {
     "data": {
      "text/plain": [
       "[<matplotlib.lines.Line2D at 0x155ebdaf0>]"
      ]
     },
     "execution_count": 11,
     "metadata": {},
     "output_type": "execute_result"
    },
    {
     "data": {
      "image/png": "[encoded data removed]",
      "text/plain": [
       "<Figure size 432x288 with 1 Axes>"
      ]
     },
     "metadata": {
      "needs_background": "light"
     },
     "output_type": "display_data"
    }
   ],
   "source": [
    "train_loss = np.load('EXP11_dump/bottleneck_train_loss.npy')\n",
    "plt.plot(train_loss[15000:])"
   ]
  },
  {
   "cell_type": "code",
   "execution_count": 14,
   "id": "28860855",
   "metadata": {},
   "outputs": [
    {
     "data": {
      "text/plain": [
       "[<matplotlib.lines.Line2D at 0x1586dd760>]"
      ]
     },
     "execution_count": 14,
     "metadata": {},
     "output_type": "execute_result"
    },
    {
     "data": {
      "image/png": "[encoded data removed]",
      "text/plain": [
       "<Figure size 432x288 with 1 Axes>"
      ]
     },
     "metadata": {
      "needs_background": "light"
     },
     "output_type": "display_data"
    }
   ],
   "source": [
    "train_loss = np.load('EXP11_dump/bottleneck_vali_loss.npy')\n",
    "plt.plot(train_loss[1000:])"
   ]
  },
  {
   "cell_type": "markdown",
   "id": "9f80fa9b",
   "metadata": {},
   "source": [
    "## histogram test"
   ]
  },
  {
   "cell_type": "code",
   "execution_count": 28,
   "id": "e629bb8c",
   "metadata": {},
   "outputs": [
    {
     "data": {
      "text/plain": [
       "(array([343299.,  71333.,  29881.,  11853.,   7624.,   5218.,   3783.,\n",
       "          2895.,   2290.,  23824.]),\n",
       " array([3.8749040e-06, 2.0000349e-01, 4.0000311e-01, 6.0000271e-01,\n",
       "        8.0000234e-01, 1.0000019e+00, 1.2000016e+00, 1.4000012e+00,\n",
       "        1.6000007e+00, 1.8000004e+00, 2.0000000e+00], dtype=float32),\n",
       " <BarContainer object of 10 artists>)"
      ]
     },
     "execution_count": 28,
     "metadata": {},
     "output_type": "execute_result"
    },
    {
     "data": {
      "image/png": "[encoded data removed]",
      "text/plain": [
       "<Figure size 432x288 with 1 Axes>"
      ]
     },
     "metadata": {
      "needs_background": "light"
     },
     "output_type": "display_data"
    }
   ],
   "source": [
    "N_prod = 250        # number of products\n",
    "Vec_Len = N_prod + 1\n",
    "\n",
    "SAMPLE_AMOUNT = 2000\n",
    "\n",
    "model = torch.load(\"EXP11_dump/bottleneck_model.pth\")\n",
    "INPUT = np.zeros((SAMPLE_AMOUNT,Vec_Len))\n",
    "OUTPUT = np.zeros((SAMPLE_AMOUNT,Vec_Len))\n",
    "for i in range(SAMPLE_AMOUNT):\n",
    "    assort = AG.GenAssortment_Even(N_prod, 5/10)    \n",
    "    INPUT[i] = AG.Product_0(assort)\n",
    "    OUTPUT[i] = latent_scheme.prob_for_assortment(assort)\n",
    "\n",
    "\n",
    "INPUT=torch.Tensor(INPUT)\n",
    "OUTPUT = torch.Tensor(OUTPUT)\n",
    "\n",
    "MODEL_OUT = model(INPUT)\n",
    "\n",
    "RELATIVE_LOSS = nn.functional.l1_loss(OUTPUT, MODEL_OUT, size_average=False, reduce = False, reduction = None) / torch.clamp(OUTPUT, min = 1/Vec_Len)\n",
    "\n",
    "losses = torch.clamp(torch.reshape(RELATIVE_LOSS,(-1,)), max=2).detach().numpy()\n",
    "\n",
    "plt.hist(losses)"
   ]
  },
  {
   "cell_type": "markdown",
   "id": "9fb4524b",
   "metadata": {},
   "source": [
    "## second train"
   ]
  },
  {
   "cell_type": "code",
   "execution_count": 20,
   "id": "7d9f9e2d",
   "metadata": {},
   "outputs": [
    {
     "name": "stdout",
     "output_type": "stream",
     "text": [
      "data generated!\n",
      "total time elapse :  10.816076040267944\n",
      "epoch :  50\n",
      "epoch :  100\n",
      "epoch :  150\n",
      "epoch :  200\n",
      "epoch :  250\n",
      "epoch :  300\n",
      "epoch :  350\n",
      "epoch :  400\n",
      "epoch :  450\n",
      "epoch :  500\n",
      "epoch :  550\n",
      "epoch :  600\n",
      "epoch :  650\n",
      "epoch :  700\n",
      "epoch :  750\n",
      "epoch :  800\n",
      "epoch :  850\n",
      "epoch :  900\n",
      "epoch :  950\n",
      "epoch :  1000\n",
      "epoch :  1050\n",
      "epoch :  1100\n",
      "epoch :  1150\n",
      "epoch :  1200\n",
      "epoch :  1250\n",
      "epoch :  1300\n",
      "epoch :  1350\n",
      "epoch :  1400\n",
      "epoch :  1450\n",
      "epoch :  1500\n",
      "epoch :  1550\n",
      "epoch :  1600\n",
      "epoch :  1650\n",
      "epoch :  1700\n",
      "epoch :  1750\n",
      "epoch :  1800\n",
      "epoch :  1850\n",
      "epoch :  1900\n",
      "epoch :  1950\n",
      "epoch :  2000\n",
      "epoch :  2050\n",
      "epoch :  2100\n",
      "epoch :  2150\n",
      "epoch :  2200\n",
      "epoch :  2250\n",
      "epoch :  2300\n",
      "epoch :  2350\n",
      "epoch :  2400\n",
      "epoch :  2450\n",
      "epoch :  2500\n",
      "epoch :  2550\n",
      "epoch :  2600\n",
      "epoch :  2650\n",
      "epoch :  2700\n",
      "epoch :  2750\n",
      "epoch :  2800\n",
      "epoch :  2850\n",
      "epoch :  2900\n",
      "epoch :  2950\n",
      "epoch :  3000\n"
     ]
    }
   ],
   "source": [
    "import AssortmentGenerator as AG\n",
    "import MarkovGenerator as MG\n",
    "import LatentSchemeGenerator as LSG\n",
    "import Models\n",
    "import time\n",
    "\n",
    "import numpy as np\n",
    "import torch\n",
    "import torch.nn as nn\n",
    "\n",
    "from torch import optim\n",
    "from torch.utils.data import Dataset, DataLoader, TensorDataset\n",
    "import matplotlib.pyplot as plt\n",
    "\n",
    "start_time = time.time()\n",
    "\n",
    "N_prod = 250        # number of products\n",
    "Vec_Len = N_prod + 1\n",
    "Neck_Len = 30       # bottle neck width\n",
    "\n",
    "N_MIX = 100 # is this mix number too large?\n",
    "\n",
    "EPOCHS = 3000\n",
    "SAMPLE_AMOUNT = 5000\n",
    "BATCH_SIZE = 100\n",
    "TRAIN_VALI_RATE = 0.9\n",
    "ADAM_LR = 0.0005\n",
    "\n",
    "# generate latent parameters\n",
    "latent_scheme = LSG.MMNL_generator(N_prod, N_MIX)\n",
    "\n",
    "mix_para = np.load('EXP11_dump/MMNL_mix_para.npy')\n",
    "choose_para = np.load('EXP11_dump/MMNL_chos_para.npy')\n",
    "\n",
    "latent_scheme.mixture_para = mix_para\n",
    "latent_scheme.choose_para = choose_para\n",
    "\n",
    "# generate synthetic data\n",
    "INPUT = np.zeros((SAMPLE_AMOUNT,Vec_Len))\n",
    "OUTPUT = np.zeros((SAMPLE_AMOUNT,Vec_Len))\n",
    "for i in range(SAMPLE_AMOUNT):\n",
    "    \n",
    "    \n",
    "    idx = np.random.uniform(low = 0,high = 1)\n",
    "    if idx > 0.9:\n",
    "        assort = assort = AG.GenAssortment_Fixed(N_prod,N_prod)\n",
    "    else:\n",
    "        assort = AG.GenAssortment_Fixed(N_prod,N_prod-1)  \n",
    "        \n",
    "    INPUT[i] = AG.Product_0(assort)\n",
    "    \n",
    "    # what if use sample instead of actual prob?\n",
    "    OUTPUT[i] = latent_scheme.prob_for_assortment(assort)\n",
    "\n",
    "print(\"data generated!\")\n",
    "print(\"total time elapse : \",time.time()-start_time)\n",
    "\n",
    "model = torch.load(\"EXP11_dump/bottleneck_model.pth\")\n",
    "\n",
    "train_dataset = TensorDataset(torch.Tensor(INPUT[:int(SAMPLE_AMOUNT * TRAIN_VALI_RATE)]),torch.Tensor(OUTPUT[:int(SAMPLE_AMOUNT * TRAIN_VALI_RATE)]))    \n",
    "vali_dataset = TensorDataset(torch.Tensor(INPUT[int(SAMPLE_AMOUNT * TRAIN_VALI_RATE):]),torch.Tensor(OUTPUT[int(SAMPLE_AMOUNT * TRAIN_VALI_RATE):]))    \n",
    "\n",
    "train_loader = DataLoader(train_dataset, shuffle=True, batch_size = BATCH_SIZE)\n",
    "vali_loader = DataLoader(vali_dataset, shuffle=True, batch_size = len(vali_dataset))\n",
    "\n",
    "optimizer = optim.Adam(model.parameters(), lr = ADAM_LR)\n",
    "criterion = nn.BCELoss()\n",
    "\n",
    "training_losses = []\n",
    "vali_losses = []\n",
    "\n",
    "for epo in range(1,EPOCHS+1):\n",
    "    if epo % 50 == 0:\n",
    "        print(\"epoch : \",epo)\n",
    "    for step, (IN, TEST) in enumerate(train_loader):\n",
    "        \n",
    "        OUT = model(IN)\n",
    "        loss = criterion(OUT,TEST)\n",
    "        optimizer.zero_grad()\n",
    "        loss.backward()\n",
    "        optimizer.step()\n",
    "        \n",
    "        loss_pure = loss.detach().item()\n",
    "        loss_base = criterion(TEST,TEST).detach().item()\n",
    "        training_losses.append((loss_pure - loss_base)/loss_base)\n",
    "        \n",
    "    for step, (VALI_IN, VALI_TEST) in enumerate(vali_loader):\n",
    "\n",
    "        VALI_OUT = model(VALI_IN)\n",
    "        \n",
    "        RELATIVE_LOSS = nn.functional.l1_loss(VALI_TEST, VALI_OUT, size_average=False, reduce = False, reduction = None) / torch.clamp(VALI_TEST, min = 1/Vec_Len)\n",
    "\n",
    "        losses = np.mean(torch.clamp(torch.reshape(RELATIVE_LOSS,(-1,)), max=4).detach().numpy())\n",
    "        \n",
    "        vali_losses = np.append(vali_losses,losses)\n",
    "\n",
    "np.save('EXP11_dump/bottleneck_train_loss_second', training_losses)\n",
    "np.save('EXP11_dump/bottleneck_vali_loss_second', vali_losses)\n",
    "torch.save(model, \"EXP11_dump/bottleneck_model_second.pth\")"
   ]
  },
  {
   "cell_type": "code",
   "execution_count": 22,
   "id": "aefd3098",
   "metadata": {},
   "outputs": [
    {
     "data": {
      "text/plain": [
       "[<matplotlib.lines.Line2D at 0x14341f610>]"
      ]
     },
     "execution_count": 22,
     "metadata": {},
     "output_type": "execute_result"
    },
    {
     "data": {
      "image/png": "[encoded data removed]",
      "text/plain": [
       "<Figure size 432x288 with 1 Axes>"
      ]
     },
     "metadata": {
      "needs_background": "light"
     },
     "output_type": "display_data"
    }
   ],
   "source": [
    "train_loss = np.load('EXP11_dump/bottleneck_train_loss_second.npy')\n",
    "plt.plot(train_loss)"
   ]
  },
  {
   "cell_type": "code",
   "execution_count": 24,
   "id": "d28be08f",
   "metadata": {},
   "outputs": [
    {
     "data": {
      "text/plain": [
       "[<matplotlib.lines.Line2D at 0x1401767f0>]"
      ]
     },
     "execution_count": 24,
     "metadata": {},
     "output_type": "execute_result"
    },
    {
     "data": {
      "image/png": "[encoded data removed]",
      "text/plain": [
       "<Figure size 432x288 with 1 Axes>"
      ]
     },
     "metadata": {
      "needs_background": "light"
     },
     "output_type": "display_data"
    }
   ],
   "source": [
    "train_loss = np.load('EXP11_dump/bottleneck_vali_loss_second.npy')\n",
    "plt.plot(train_loss[100:])"
   ]
  },
  {
   "cell_type": "code",
   "execution_count": 27,
   "id": "2cb3aa56",
   "metadata": {},
   "outputs": [
    {
     "data": {
      "text/plain": [
       "(array([450333.,      0.,      0.,      0.,      0.,      0.,      0.,\n",
       "             0.,   1847.,  49820.]),\n",
       " array([9.8207114e-05, 9.5425531e-02, 1.9075286e-01, 2.8608018e-01,\n",
       "        3.8140750e-01, 4.7673485e-01, 5.7206213e-01, 6.6738951e-01,\n",
       "        7.6271683e-01, 8.5804415e-01, 9.5337147e-01], dtype=float32),\n",
       " <BarContainer object of 10 artists>)"
      ]
     },
     "execution_count": 27,
     "metadata": {},
     "output_type": "execute_result"
    },
    {
     "data": {
      "image/png": "[encoded data removed]",
      "text/plain": [
       "<Figure size 432x288 with 1 Axes>"
      ]
     },
     "metadata": {
      "needs_background": "light"
     },
     "output_type": "display_data"
    }
   ],
   "source": [
    "N_prod = 250        # number of products\n",
    "Vec_Len = N_prod + 1\n",
    "\n",
    "SAMPLE_AMOUNT = 2000\n",
    "\n",
    "model = torch.load(\"EXP11_dump/bottleneck_model_second.pth\")\n",
    "INPUT = np.zeros((SAMPLE_AMOUNT,Vec_Len))\n",
    "OUTPUT = np.zeros((SAMPLE_AMOUNT,Vec_Len))\n",
    "for i in range(SAMPLE_AMOUNT):\n",
    "    assort = AG.GenAssortment_Even(N_prod, 1/10)    \n",
    "    INPUT[i] = AG.Product_0(assort)\n",
    "    OUTPUT[i] = latent_scheme.prob_for_assortment(assort)\n",
    "\n",
    "\n",
    "INPUT=torch.Tensor(INPUT)\n",
    "OUTPUT = torch.Tensor(OUTPUT)\n",
    "\n",
    "MODEL_OUT = model(INPUT)\n",
    "\n",
    "RELATIVE_LOSS = nn.functional.l1_loss(OUTPUT, MODEL_OUT, size_average=False, reduce = False, reduction = None) / torch.clamp(OUTPUT, min = 1/Vec_Len)\n",
    "\n",
    "losses = torch.clamp(torch.reshape(RELATIVE_LOSS,(-1,)), max=2).detach().numpy()\n",
    "\n",
    "plt.hist(losses)"
   ]
  },
  {
   "cell_type": "code",
   "execution_count": null,
   "id": "e0ca1b68",
   "metadata": {},
   "outputs": [],
   "source": []
  }
 ],
 "metadata": {
  "kernelspec": {
   "display_name": "Python 3 (ipykernel)",
   "language": "python",
   "name": "python3"
  },
  "language_info": {
   "codemirror_mode": {
    "name": "ipython",
    "version": 3
   },
   "file_extension": ".py",
   "mimetype": "text/x-python",
   "name": "python",
   "nbconvert_exporter": "python",
   "pygments_lexer": "ipython3",
   "version": "3.9.7"
  }
 },
 "nbformat": 4,
 "nbformat_minor": 5
}
