{
 "cells": [
  {
   "cell_type": "markdown",
   "id": "d4211510",
   "metadata": {},
   "source": [
    "## EXP2 model and related test"
   ]
  },
  {
   "cell_type": "code",
   "execution_count": 15,
   "id": "140f6b0f",
   "metadata": {},
   "outputs": [
    {
     "data": {
      "text/plain": [
       "(array([186866.,  29816.,   9992.,   5147.,   3456.,   2689.,   2378.,\n",
       "          1882.,   1593.,   7181.]),\n",
       " array([1.8871788e-11, 1.0000000e-03, 1.9999999e-03, 3.0000000e-03,\n",
       "        3.9999997e-03, 4.9999999e-03, 6.0000001e-03, 6.9999998e-03,\n",
       "        7.9999994e-03, 8.9999996e-03, 9.9999998e-03], dtype=float32),\n",
       " <BarContainer object of 10 artists>)"
      ]
     },
     "execution_count": 15,
     "metadata": {},
     "output_type": "execute_result"
    },
    {
     "data": {
      "image/png": "[encoded data removed]",
      "text/plain": [
       "<Figure size 432x288 with 1 Axes>"
      ]
     },
     "metadata": {
      "needs_background": "light"
     },
     "output_type": "display_data"
    }
   ],
   "source": [
    "import AssortmentGenerator as AG\n",
    "import MarkovGenerator as MG\n",
    "import Models\n",
    "import time\n",
    "\n",
    "import numpy as np\n",
    "import torch\n",
    "import torch.nn as nn\n",
    "\n",
    "from torch import optim\n",
    "from torch.utils.data import Dataset, DataLoader, TensorDataset\n",
    "import matplotlib.pyplot as plt\n",
    "\n",
    "N_prod = 250        # number of products\n",
    "Vec_Len = N_prod + 1\n",
    "Neck_Len = 30       # bottle neck width\n",
    "SAMPLE_AMOUNT = 1000\n",
    "\n",
    "\n",
    "transP = np.load(\"EXP2_dump/markov_matrix.npy\")\n",
    "lams = np.load(\"EXP2_dump/arriving_lambda.npy\")\n",
    "\n",
    "model = torch.load(\"EXP2_dump/bottleneck_model.pth\")\n",
    "\n",
    "# generate synthetic data\n",
    "INPUT = np.zeros((SAMPLE_AMOUNT,Vec_Len))\n",
    "OUTPUT = np.zeros((SAMPLE_AMOUNT,Vec_Len))\n",
    "for i in range(SAMPLE_AMOUNT):\n",
    "    assort = AG.GenAssortment_Sparse(N_prod)    \n",
    "    INPUT[i] = AG.Product_0(assort)\n",
    "    OUTPUT[i] = MG.Absorbing_Calculator(lams, transP, assort)\n",
    "    \n",
    "INPUT=torch.Tensor(INPUT)\n",
    "OUTPUT = torch.Tensor(OUTPUT)\n",
    "\n",
    "MODEL_OUT = model(INPUT)\n",
    "\n",
    "RELATIVE_LOSS = nn.functional.mse_loss(OUTPUT, MODEL_OUT, size_average=False, reduce = False, reduction = None) / torch.clamp(OUTPUT, min = 1e-3)\n",
    "\n",
    "losses = torch.clamp(torch.reshape(RELATIVE_LOSS,(-1,)), max=0.01).detach().numpy()\n",
    "\n",
    "plt.hist(losses)\n",
    "\n"
   ]
  },
  {
   "cell_type": "markdown",
   "id": "4cbec1a2",
   "metadata": {},
   "source": [
    "## what if dense?"
   ]
  },
  {
   "cell_type": "code",
   "execution_count": 9,
   "id": "db818574",
   "metadata": {},
   "outputs": [
    {
     "data": {
      "text/plain": [
       "(array([74013., 18234.,  9145.,  4634.,  2874.,  2392.,  1952.,  1539.,\n",
       "         1191.,  9526.]),\n",
       " array([6.22699930e-14, 1.99999986e-03, 3.99999972e-03, 6.00000005e-03,\n",
       "        7.99999945e-03, 9.99999978e-03, 1.20000001e-02, 1.39999995e-02,\n",
       "        1.59999989e-02, 1.79999992e-02, 1.99999996e-02], dtype=float32),\n",
       " <BarContainer object of 10 artists>)"
      ]
     },
     "execution_count": 9,
     "metadata": {},
     "output_type": "execute_result"
    },
    {
     "data": {
      "image/png": "[encoded data removed]",
      "text/plain": [
       "<Figure size 432x288 with 1 Axes>"
      ]
     },
     "metadata": {
      "needs_background": "light"
     },
     "output_type": "display_data"
    }
   ],
   "source": [
    "# generate synthetic data\n",
    "DENSE_AMOUNT = 500\n",
    "\n",
    "\n",
    "INPUT = np.zeros((DENSE_AMOUNT,Vec_Len))\n",
    "OUTPUT = np.zeros((DENSE_AMOUNT,Vec_Len))\n",
    "for i in range(DENSE_AMOUNT):\n",
    "    assort = AG.GenAssortment_Fixed(N_prod, fixed_num = N_prod-1)    \n",
    "    INPUT[i] = AG.Product_0(assort)\n",
    "    OUTPUT[i] = MG.Absorbing_Calculator(lams, transP, assort)\n",
    "\n",
    "\n",
    "INPUT=torch.Tensor(INPUT)\n",
    "OUTPUT = torch.Tensor(OUTPUT)\n",
    "\n",
    "MODEL_OUT = model(INPUT)\n",
    "\n",
    "RELATIVE_LOSS = nn.functional.mse_loss(OUTPUT, MODEL_OUT, size_average=False, reduce = False, reduction = None) / torch.clamp(OUTPUT, min = 1e-3)\n",
    "\n",
    "losses = torch.clamp(torch.reshape(RELATIVE_LOSS,(-1,)), max = 0.02).detach().numpy()\n",
    "\n",
    "plt.hist(losses)"
   ]
  },
  {
   "cell_type": "code",
   "execution_count": 11,
   "id": "8be57a49",
   "metadata": {},
   "outputs": [
    {
     "data": {
      "text/plain": [
       "(array([90405., 16547.,  7415.,  3262.,  1413.,   748.,   628.,   461.,\n",
       "          371.,  4250.]),\n",
       " array([6.35274082e-12, 1.99999986e-03, 3.99999972e-03, 6.00000005e-03,\n",
       "        7.99999945e-03, 9.99999978e-03, 1.20000001e-02, 1.39999995e-02,\n",
       "        1.59999989e-02, 1.79999992e-02, 1.99999996e-02], dtype=float32),\n",
       " <BarContainer object of 10 artists>)"
      ]
     },
     "execution_count": 11,
     "metadata": {},
     "output_type": "execute_result"
    },
    {
     "data": {
      "image/png": "[encoded data removed]",
      "text/plain": [
       "<Figure size 432x288 with 1 Axes>"
      ]
     },
     "metadata": {
      "needs_background": "light"
     },
     "output_type": "display_data"
    }
   ],
   "source": [
    "# generate synthetic data\n",
    "DENSE_AMOUNT = 500\n",
    "\n",
    "\n",
    "INPUT = np.zeros((DENSE_AMOUNT,Vec_Len))\n",
    "OUTPUT = np.zeros((DENSE_AMOUNT,Vec_Len))\n",
    "for i in range(DENSE_AMOUNT):\n",
    "    assort = AG.GenAssortment_Even(N_prod, lam = 2/3)    \n",
    "    INPUT[i] = AG.Product_0(assort)\n",
    "    OUTPUT[i] = MG.Absorbing_Calculator(lams, transP, assort)\n",
    "\n",
    "\n",
    "INPUT=torch.Tensor(INPUT)\n",
    "OUTPUT = torch.Tensor(OUTPUT)\n",
    "\n",
    "MODEL_OUT = model(INPUT)\n",
    "\n",
    "RELATIVE_LOSS = nn.functional.mse_loss(OUTPUT, MODEL_OUT, size_average=False, reduce = False, reduction = None) / torch.clamp(OUTPUT, min = 1e-3)\n",
    "\n",
    "losses = torch.clamp(torch.reshape(RELATIVE_LOSS,(-1,)), max = 0.02).detach().numpy()\n",
    "\n",
    "plt.hist(losses)"
   ]
  },
  {
   "cell_type": "markdown",
   "id": "470970e8",
   "metadata": {},
   "source": [
    "## even for relative SE loss, even for dense assortment, the performance is great"
   ]
  },
  {
   "cell_type": "markdown",
   "id": "861faaa0",
   "metadata": {},
   "source": [
    "## now check EXP4"
   ]
  },
  {
   "cell_type": "code",
   "execution_count": 16,
   "id": "192d0f2a",
   "metadata": {},
   "outputs": [
    {
     "data": {
      "text/plain": [
       "(array([80732., 92732., 40034., 13988.,  5074.,  1847.,   722.,   410.,\n",
       "          341., 15120.]),\n",
       " array([5.2548471e-10, 1.0000004e-03, 2.0000003e-03, 3.0000003e-03,\n",
       "        4.0000002e-03, 5.0000004e-03, 6.0000001e-03, 7.0000002e-03,\n",
       "        8.0000004e-03, 8.9999996e-03, 9.9999998e-03], dtype=float32),\n",
       " <BarContainer object of 10 artists>)"
      ]
     },
     "execution_count": 16,
     "metadata": {},
     "output_type": "execute_result"
    },
    {
     "data": {
      "image/png": "[encoded data removed]",
      "text/plain": [
       "<Figure size 432x288 with 1 Axes>"
      ]
     },
     "metadata": {
      "needs_background": "light"
     },
     "output_type": "display_data"
    }
   ],
   "source": [
    "import AssortmentGenerator as AG\n",
    "import MarkovGenerator as MG\n",
    "import Models\n",
    "import time\n",
    "\n",
    "import numpy as np\n",
    "import torch\n",
    "import torch.nn as nn\n",
    "\n",
    "from torch import optim\n",
    "from torch.utils.data import Dataset, DataLoader, TensorDataset\n",
    "import matplotlib.pyplot as plt\n",
    "\n",
    "N_prod = 250        # number of products\n",
    "Vec_Len = N_prod + 1\n",
    "Neck_Len = 30       # bottle neck width\n",
    "SAMPLE_AMOUNT = 1000\n",
    "\n",
    "\n",
    "transP = np.load(\"EXP4_dump/markov_matrix.npy\")\n",
    "lams = np.load(\"EXP4_dump/arriving_lambda.npy\")\n",
    "\n",
    "model = torch.load(\"EXP4_dump/MarkovStructure_model.pth\")\n",
    "\n",
    "# generate synthetic data\n",
    "INPUT = np.zeros((SAMPLE_AMOUNT,Vec_Len))\n",
    "OUTPUT = np.zeros((SAMPLE_AMOUNT,Vec_Len))\n",
    "for i in range(SAMPLE_AMOUNT):\n",
    "    assort = AG.GenAssortment_Sparse(N_prod)    \n",
    "    INPUT[i] = AG.Product_0(assort)\n",
    "    OUTPUT[i] = MG.Absorbing_Calculator(lams, transP, assort)\n",
    "    \n",
    "INPUT=torch.Tensor(INPUT)\n",
    "OUTPUT = torch.Tensor(OUTPUT)\n",
    "\n",
    "MODEL_OUT = model(INPUT)\n",
    "\n",
    "RELATIVE_LOSS = nn.functional.mse_loss(OUTPUT, MODEL_OUT, size_average=False, reduce = False, reduction = None) / torch.clamp(OUTPUT, min = 1e-3)\n",
    "\n",
    "losses = torch.clamp(torch.reshape(RELATIVE_LOSS,(-1,)), max=0.01).detach().numpy()\n",
    "\n",
    "plt.hist(losses)\n",
    "\n"
   ]
  },
  {
   "cell_type": "code",
   "execution_count": 17,
   "id": "5f6d1a40",
   "metadata": {},
   "outputs": [
    {
     "data": {
      "text/plain": [
       "(array([16631., 15570., 14796., 13575., 11445., 12985., 10461., 13462.,\n",
       "        15279.,  1296.]),\n",
       " array([5.6300322e-11, 9.0579188e-04, 1.8115838e-03, 2.7173755e-03,\n",
       "        3.6231675e-03, 4.5289593e-03, 5.4347510e-03, 6.3405428e-03,\n",
       "        7.2463350e-03, 8.1521263e-03, 9.0579186e-03], dtype=float32),\n",
       " <BarContainer object of 10 artists>)"
      ]
     },
     "execution_count": 17,
     "metadata": {},
     "output_type": "execute_result"
    },
    {
     "data": {
      "image/png": "[encoded data removed]",
      "text/plain": [
       "<Figure size 432x288 with 1 Axes>"
      ]
     },
     "metadata": {
      "needs_background": "light"
     },
     "output_type": "display_data"
    }
   ],
   "source": [
    "# generate synthetic data\n",
    "DENSE_AMOUNT = 500\n",
    "\n",
    "\n",
    "INPUT = np.zeros((DENSE_AMOUNT,Vec_Len))\n",
    "OUTPUT = np.zeros((DENSE_AMOUNT,Vec_Len))\n",
    "for i in range(DENSE_AMOUNT):\n",
    "    assort = AG.GenAssortment_Fixed(N_prod, fixed_num = N_prod-1)    \n",
    "    INPUT[i] = AG.Product_0(assort)\n",
    "    OUTPUT[i] = MG.Absorbing_Calculator(lams, transP, assort)\n",
    "\n",
    "\n",
    "INPUT=torch.Tensor(INPUT)\n",
    "OUTPUT = torch.Tensor(OUTPUT)\n",
    "\n",
    "MODEL_OUT = model(INPUT)\n",
    "\n",
    "RELATIVE_LOSS = nn.functional.mse_loss(OUTPUT, MODEL_OUT, size_average=False, reduce = False, reduction = None) / torch.clamp(OUTPUT, min = 1e-3)\n",
    "\n",
    "losses = torch.clamp(torch.reshape(RELATIVE_LOSS,(-1,)), max = 0.02).detach().numpy()\n",
    "\n",
    "plt.hist(losses)"
   ]
  },
  {
   "cell_type": "code",
   "execution_count": 18,
   "id": "54a8b840",
   "metadata": {},
   "outputs": [
    {
     "data": {
      "text/plain": [
       "(array([5.0658e+04, 1.8422e+04, 1.9790e+04, 1.9491e+04, 1.4018e+04,\n",
       "        2.5120e+03, 1.0700e+02, 2.0000e+00, 0.0000e+00, 5.0000e+02]),\n",
       " array([5.28730892e-10, 2.00000033e-03, 4.00000019e-03, 6.00000005e-03,\n",
       "        8.00000038e-03, 9.99999978e-03, 1.20000001e-02, 1.39999995e-02,\n",
       "        1.59999989e-02, 1.79999992e-02, 1.99999996e-02], dtype=float32),\n",
       " <BarContainer object of 10 artists>)"
      ]
     },
     "execution_count": 18,
     "metadata": {},
     "output_type": "execute_result"
    },
    {
     "data": {
      "image/png": "[encoded data removed]",
      "text/plain": [
       "<Figure size 432x288 with 1 Axes>"
      ]
     },
     "metadata": {
      "needs_background": "light"
     },
     "output_type": "display_data"
    }
   ],
   "source": [
    "# generate synthetic data\n",
    "DENSE_AMOUNT = 500\n",
    "\n",
    "\n",
    "INPUT = np.zeros((DENSE_AMOUNT,Vec_Len))\n",
    "OUTPUT = np.zeros((DENSE_AMOUNT,Vec_Len))\n",
    "for i in range(DENSE_AMOUNT):\n",
    "    assort = AG.GenAssortment_Even(N_prod, lam = 2/3)    \n",
    "    INPUT[i] = AG.Product_0(assort)\n",
    "    OUTPUT[i] = MG.Absorbing_Calculator(lams, transP, assort)\n",
    "\n",
    "\n",
    "INPUT=torch.Tensor(INPUT)\n",
    "OUTPUT = torch.Tensor(OUTPUT)\n",
    "\n",
    "MODEL_OUT = model(INPUT)\n",
    "\n",
    "RELATIVE_LOSS = nn.functional.mse_loss(OUTPUT, MODEL_OUT, size_average=False, reduce = False, reduction = None) / torch.clamp(OUTPUT, min = 1e-3)\n",
    "\n",
    "losses = torch.clamp(torch.reshape(RELATIVE_LOSS,(-1,)), max = 0.02).detach().numpy()\n",
    "\n",
    "plt.hist(losses)"
   ]
  },
  {
   "cell_type": "markdown",
   "id": "ce7d5a26",
   "metadata": {},
   "source": [
    "## generally speaking, EXP4 is not as good as EXP2, both interms of accuracy and robustness. We can discard EXP4"
   ]
  },
  {
   "cell_type": "code",
   "execution_count": null,
   "id": "e99871da",
   "metadata": {},
   "outputs": [],
   "source": []
  }
 ],
 "metadata": {
  "kernelspec": {
   "display_name": "Python 3 (ipykernel)",
   "language": "python",
   "name": "python3"
  },
  "language_info": {
   "codemirror_mode": {
    "name": "ipython",
    "version": 3
   },
   "file_extension": ".py",
   "mimetype": "text/x-python",
   "name": "python",
   "nbconvert_exporter": "python",
   "pygments_lexer": "ipython3",
   "version": "3.9.7"
  }
 },
 "nbformat": 4,
 "nbformat_minor": 5
}
