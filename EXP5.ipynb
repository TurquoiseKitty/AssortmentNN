{
 "cells": [
  {
   "cell_type": "markdown",
   "id": "d4211510",
   "metadata": {},
   "source": [
    "## EXP2 model and related test"
   ]
  },
  {
   "cell_type": "code",
   "execution_count": 2,
   "id": "140f6b0f",
   "metadata": {},
   "outputs": [
    {
     "data": {
      "text/plain": [
       "(array([1.56401e+05, 6.70890e+04, 1.41620e+04, 9.98700e+03, 2.60900e+03,\n",
       "        3.43000e+02, 1.54000e+02, 8.80000e+01, 5.00000e+01, 1.17000e+02]),\n",
       " array([2.2050010e-05, 2.0001985e-01, 4.0001765e-01, 6.0001546e-01,\n",
       "        8.0001324e-01, 1.0000110e+00, 1.2000089e+00, 1.4000067e+00,\n",
       "        1.6000044e+00, 1.8000022e+00, 2.0000000e+00], dtype=float32),\n",
       " <BarContainer object of 10 artists>)"
      ]
     },
     "execution_count": 2,
     "metadata": {},
     "output_type": "execute_result"
    },
    {
     "data": {
      "image/png": "[encoded data removed]",
      "text/plain": [
       "<Figure size 432x288 with 1 Axes>"
      ]
     },
     "metadata": {
      "needs_background": "light"
     },
     "output_type": "display_data"
    }
   ],
   "source": [
    "import AssortmentGenerator as AG\n",
    "import MarkovGenerator as MG\n",
    "import Models\n",
    "import time\n",
    "\n",
    "import numpy as np\n",
    "import torch\n",
    "import torch.nn as nn\n",
    "\n",
    "from torch import optim\n",
    "from torch.utils.data import Dataset, DataLoader, TensorDataset\n",
    "import matplotlib.pyplot as plt\n",
    "\n",
    "N_prod = 250        # number of products\n",
    "Vec_Len = N_prod + 1\n",
    "Neck_Len = 30       # bottle neck width\n",
    "SAMPLE_AMOUNT = 1000\n",
    "\n",
    "\n",
    "transP = np.load(\"EXP2_dump/markov_matrix.npy\")\n",
    "lams = np.load(\"EXP2_dump/arriving_lambda.npy\")\n",
    "\n",
    "model = torch.load(\"EXP2_dump/bottleneck_model.pth\")\n",
    "\n",
    "# generate synthetic data\n",
    "INPUT = np.zeros((SAMPLE_AMOUNT,Vec_Len))\n",
    "OUTPUT = np.zeros((SAMPLE_AMOUNT,Vec_Len))\n",
    "for i in range(SAMPLE_AMOUNT):\n",
    "    assort = AG.GenAssortment_Sparse(N_prod)    \n",
    "    INPUT[i] = AG.Product_0(assort)\n",
    "    OUTPUT[i] = MG.Absorbing_Calculator(lams, transP, assort)\n",
    "    \n",
    "INPUT=torch.Tensor(INPUT)\n",
    "OUTPUT = torch.Tensor(OUTPUT)\n",
    "\n",
    "MODEL_OUT = model(INPUT)\n",
    "\n",
    "RELATIVE_LOSS = nn.functional.l1_loss(OUTPUT, MODEL_OUT, size_average=False, reduce = False, reduction = None) / torch.clamp(OUTPUT, min = 1/Vec_Len)\n",
    "\n",
    "losses = torch.clamp(torch.reshape(RELATIVE_LOSS,(-1,)), max=2).detach().numpy()\n",
    "\n",
    "plt.hist(losses)\n",
    "\n"
   ]
  },
  {
   "cell_type": "markdown",
   "id": "4cbec1a2",
   "metadata": {},
   "source": [
    "## what if dense?"
   ]
  },
  {
   "cell_type": "code",
   "execution_count": 3,
   "id": "db818574",
   "metadata": {},
   "outputs": [
    {
     "data": {
      "text/plain": [
       "(array([27496., 28191., 26275., 18207., 10181.,  4001.,  2472.,  1673.,\n",
       "         1189.,  5815.]),\n",
       " array([6.1484102e-06, 2.0000553e-01, 4.0000492e-01, 6.0000432e-01,\n",
       "        8.0000371e-01, 1.0000031e+00, 1.2000024e+00, 1.4000019e+00,\n",
       "        1.6000012e+00, 1.8000007e+00, 2.0000000e+00], dtype=float32),\n",
       " <BarContainer object of 10 artists>)"
      ]
     },
     "execution_count": 3,
     "metadata": {},
     "output_type": "execute_result"
    },
    {
     "data": {
      "image/png": "[encoded data removed]",
      "text/plain": [
       "<Figure size 432x288 with 1 Axes>"
      ]
     },
     "metadata": {
      "needs_background": "light"
     },
     "output_type": "display_data"
    }
   ],
   "source": [
    "# generate synthetic data\n",
    "DENSE_AMOUNT = 500\n",
    "\n",
    "\n",
    "INPUT = np.zeros((DENSE_AMOUNT,Vec_Len))\n",
    "OUTPUT = np.zeros((DENSE_AMOUNT,Vec_Len))\n",
    "for i in range(DENSE_AMOUNT):\n",
    "    assort = AG.GenAssortment_Fixed(N_prod, fixed_num = N_prod-1)    \n",
    "    INPUT[i] = AG.Product_0(assort)\n",
    "    OUTPUT[i] = MG.Absorbing_Calculator(lams, transP, assort)\n",
    "\n",
    "\n",
    "INPUT=torch.Tensor(INPUT)\n",
    "OUTPUT = torch.Tensor(OUTPUT)\n",
    "\n",
    "MODEL_OUT = model(INPUT)\n",
    "\n",
    "RELATIVE_LOSS = nn.functional.l1_loss(OUTPUT, MODEL_OUT, size_average=False, reduce = False, reduction = None) / torch.clamp(OUTPUT, min = 1/Vec_Len)\n",
    "\n",
    "losses = torch.clamp(torch.reshape(RELATIVE_LOSS,(-1,)), max=2).detach().numpy()\n",
    "\n",
    "plt.hist(losses)"
   ]
  },
  {
   "cell_type": "code",
   "execution_count": 4,
   "id": "8be57a49",
   "metadata": {},
   "outputs": [
    {
     "data": {
      "text/plain": [
       "(array([50675., 28934., 19980., 13305.,  5556.,  1698.,  1134.,   886.,\n",
       "          602.,  2730.]),\n",
       " array([2.2422711e-07, 2.0000020e-01, 4.0000018e-01, 6.0000014e-01,\n",
       "        8.0000013e-01, 1.0000001e+00, 1.2000000e+00, 1.4000001e+00,\n",
       "        1.6000000e+00, 1.8000001e+00, 2.0000000e+00], dtype=float32),\n",
       " <BarContainer object of 10 artists>)"
      ]
     },
     "execution_count": 4,
     "metadata": {},
     "output_type": "execute_result"
    },
    {
     "data": {
      "image/png": "[encoded data removed]",
      "text/plain": [
       "<Figure size 432x288 with 1 Axes>"
      ]
     },
     "metadata": {
      "needs_background": "light"
     },
     "output_type": "display_data"
    }
   ],
   "source": [
    "# generate synthetic data\n",
    "DENSE_AMOUNT = 500\n",
    "\n",
    "\n",
    "INPUT = np.zeros((DENSE_AMOUNT,Vec_Len))\n",
    "OUTPUT = np.zeros((DENSE_AMOUNT,Vec_Len))\n",
    "for i in range(DENSE_AMOUNT):\n",
    "    assort = AG.GenAssortment_Even(N_prod, lam = 2/3)    \n",
    "    INPUT[i] = AG.Product_0(assort)\n",
    "    OUTPUT[i] = MG.Absorbing_Calculator(lams, transP, assort)\n",
    "\n",
    "\n",
    "INPUT=torch.Tensor(INPUT)\n",
    "OUTPUT = torch.Tensor(OUTPUT)\n",
    "\n",
    "MODEL_OUT = model(INPUT)\n",
    "\n",
    "RELATIVE_LOSS = nn.functional.l1_loss(OUTPUT, MODEL_OUT, size_average=False, reduce = False, reduction = None) / torch.clamp(OUTPUT, min = 1/Vec_Len)\n",
    "\n",
    "losses = torch.clamp(torch.reshape(RELATIVE_LOSS,(-1,)), max=2).detach().numpy()\n",
    "\n",
    "plt.hist(losses)"
   ]
  },
  {
   "cell_type": "markdown",
   "id": "861faaa0",
   "metadata": {},
   "source": [
    "## now check EXP4"
   ]
  },
  {
   "cell_type": "code",
   "execution_count": 24,
   "id": "192d0f2a",
   "metadata": {},
   "outputs": [
    {
     "data": {
      "text/plain": [
       "(array([ 2361., 33168., 85761., 73960., 30252.,  7980.,  1461.,   148.,\n",
       "          113., 15796.]),\n",
       " array([6.0789184e-06, 9.6247986e-02, 1.9248989e-01, 2.8873178e-01,\n",
       "        3.8497370e-01, 4.8121560e-01, 5.7745749e-01, 6.7369938e-01,\n",
       "        7.6994133e-01, 8.6618322e-01, 9.6242511e-01], dtype=float32),\n",
       " <BarContainer object of 10 artists>)"
      ]
     },
     "execution_count": 24,
     "metadata": {},
     "output_type": "execute_result"
    },
    {
     "data": {
      "image/png": "[encoded data removed]",
      "text/plain": [
       "<Figure size 432x288 with 1 Axes>"
      ]
     },
     "metadata": {
      "needs_background": "light"
     },
     "output_type": "display_data"
    }
   ],
   "source": [
    "import AssortmentGenerator as AG\n",
    "import MarkovGenerator as MG\n",
    "import Models\n",
    "import time\n",
    "\n",
    "import numpy as np\n",
    "import torch\n",
    "import torch.nn as nn\n",
    "\n",
    "from torch import optim\n",
    "from torch.utils.data import Dataset, DataLoader, TensorDataset\n",
    "import matplotlib.pyplot as plt\n",
    "\n",
    "N_prod = 250        # number of products\n",
    "Vec_Len = N_prod + 1\n",
    "Neck_Len = 30       # bottle neck width\n",
    "SAMPLE_AMOUNT = 1000\n",
    "\n",
    "\n",
    "transP = np.load(\"EXP4_dump/markov_matrix.npy\")\n",
    "lams = np.load(\"EXP4_dump/arriving_lambda.npy\")\n",
    "\n",
    "model = torch.load(\"EXP4_dump/MarkovStructure_model.pth\")\n",
    "\n",
    "# generate synthetic data\n",
    "INPUT = np.zeros((SAMPLE_AMOUNT,Vec_Len))\n",
    "OUTPUT = np.zeros((SAMPLE_AMOUNT,Vec_Len))\n",
    "for i in range(SAMPLE_AMOUNT):\n",
    "    assort = AG.GenAssortment_Sparse(N_prod)    \n",
    "    INPUT[i] = AG.Product_0(assort)\n",
    "    OUTPUT[i] = MG.Absorbing_Calculator(lams, transP, assort)\n",
    "    \n",
    "INPUT=torch.Tensor(INPUT)\n",
    "OUTPUT = torch.Tensor(OUTPUT)\n",
    "\n",
    "MODEL_OUT = model(INPUT)\n",
    "\n",
    "RELATIVE_LOSS = nn.functional.l1_loss(OUTPUT, MODEL_OUT, size_average=False, reduce = False, reduction = None) / torch.clamp(OUTPUT, min = 1/Vec_Len)\n",
    "\n",
    "losses = torch.clamp(torch.reshape(RELATIVE_LOSS,(-1,)), max=2).detach().numpy()\n",
    "\n",
    "plt.hist(losses)\n",
    "\n"
   ]
  },
  {
   "cell_type": "code",
   "execution_count": 33,
   "id": "5f6d1a40",
   "metadata": {},
   "outputs": [
    {
     "data": {
      "text/plain": [
       "(array([ 8489.,  6575.,  8504.,  6135.,  4945.,  3959., 10388.,  5532.,\n",
       "         5061., 65912.]),\n",
       " array([3.7295285e-05, 1.0001882e-01, 2.0000035e-01, 2.9998186e-01,\n",
       "        3.9996338e-01, 4.9994493e-01, 5.9992641e-01, 6.9990796e-01,\n",
       "        7.9988950e-01, 8.9987099e-01, 9.9985254e-01], dtype=float32),\n",
       " <BarContainer object of 10 artists>)"
      ]
     },
     "execution_count": 33,
     "metadata": {},
     "output_type": "execute_result"
    },
    {
     "data": {
      "image/png": "[encoded data removed]",
      "text/plain": [
       "<Figure size 432x288 with 1 Axes>"
      ]
     },
     "metadata": {
      "needs_background": "light"
     },
     "output_type": "display_data"
    }
   ],
   "source": [
    "# generate synthetic data\n",
    "DENSE_AMOUNT = 500\n",
    "\n",
    "\n",
    "INPUT = np.zeros((DENSE_AMOUNT,Vec_Len))\n",
    "OUTPUT = np.zeros((DENSE_AMOUNT,Vec_Len))\n",
    "for i in range(DENSE_AMOUNT):\n",
    "    assort = AG.GenAssortment_Fixed(N_prod, fixed_num = N_prod-1)    \n",
    "    INPUT[i] = AG.Product_0(assort)\n",
    "    OUTPUT[i] = MG.Absorbing_Calculator(lams, transP, assort)\n",
    "\n",
    "\n",
    "INPUT=torch.Tensor(INPUT)\n",
    "OUTPUT = torch.Tensor(OUTPUT)\n",
    "\n",
    "MODEL_OUT = model(INPUT)\n",
    "\n",
    "RELATIVE_LOSS = nn.functional.l1_loss(OUTPUT, MODEL_OUT, size_average=False, reduce = False, reduction = None) / torch.clamp(OUTPUT, min = 1/Vec_Len)\n",
    "\n",
    "losses = torch.clamp(torch.reshape(RELATIVE_LOSS,(-1,)), max=2).detach().numpy()\n",
    "\n",
    "plt.hist(losses)"
   ]
  },
  {
   "cell_type": "code",
   "execution_count": 32,
   "id": "54a8b840",
   "metadata": {
    "scrolled": true
   },
   "outputs": [
    {
     "data": {
      "text/plain": [
       "(array([41506.,  1074.,  1761.,  2389.,  3151.,  3372.,  3476.,  3829.,\n",
       "         3870., 61072.]),\n",
       " array([1.84308723e-04, 1.00121476e-01, 2.00058654e-01, 2.99995810e-01,\n",
       "        3.99932981e-01, 4.99870151e-01, 5.99807322e-01, 6.99744523e-01,\n",
       "        7.99681664e-01, 8.99618864e-01, 9.99556005e-01], dtype=float32),\n",
       " <BarContainer object of 10 artists>)"
      ]
     },
     "execution_count": 32,
     "metadata": {},
     "output_type": "execute_result"
    },
    {
     "data": {
      "image/png": "[encoded data removed]",
      "text/plain": [
       "<Figure size 432x288 with 1 Axes>"
      ]
     },
     "metadata": {
      "needs_background": "light"
     },
     "output_type": "display_data"
    }
   ],
   "source": [
    "# generate synthetic data\n",
    "DENSE_AMOUNT = 500\n",
    "\n",
    "\n",
    "INPUT = np.zeros((DENSE_AMOUNT,Vec_Len))\n",
    "OUTPUT = np.zeros((DENSE_AMOUNT,Vec_Len))\n",
    "for i in range(DENSE_AMOUNT):\n",
    "    assort = AG.GenAssortment_Even(N_prod, lam = 2/3)    \n",
    "    INPUT[i] = AG.Product_0(assort)\n",
    "    OUTPUT[i] = MG.Absorbing_Calculator(lams, transP, assort)\n",
    "\n",
    "\n",
    "INPUT=torch.Tensor(INPUT)\n",
    "OUTPUT = torch.Tensor(OUTPUT)\n",
    "\n",
    "MODEL_OUT = model(INPUT)\n",
    "\n",
    "RELATIVE_LOSS = nn.functional.l1_loss(OUTPUT, MODEL_OUT, size_average=False, reduce = False, reduction = None) / torch.clamp(OUTPUT, min = 1/Vec_Len)\n",
    "\n",
    "losses = torch.clamp(torch.reshape(RELATIVE_LOSS,(-1,)), max=4).detach().numpy()\n",
    "\n",
    "plt.hist(losses)"
   ]
  },
  {
   "cell_type": "code",
   "execution_count": 31,
   "id": "bcf84361",
   "metadata": {},
   "outputs": [
    {
     "data": {
      "text/plain": [
       "(array([ 1098., 15307., 42068., 38179., 15722.,  4405.,   800.,   103.,\n",
       "           73.,  7745.]),\n",
       " array([2.4395715e-05, 9.6352108e-02, 1.9267982e-01, 2.8900754e-01,\n",
       "        3.8533527e-01, 4.8166296e-01, 5.7799071e-01, 6.7431837e-01,\n",
       "        7.7064610e-01, 8.6697382e-01, 9.6330154e-01], dtype=float32),\n",
       " <BarContainer object of 10 artists>)"
      ]
     },
     "execution_count": 31,
     "metadata": {},
     "output_type": "execute_result"
    },
    {
     "data": {
      "image/png": "[encoded data removed]",
      "text/plain": [
       "<Figure size 432x288 with 1 Axes>"
      ]
     },
     "metadata": {
      "needs_background": "light"
     },
     "output_type": "display_data"
    }
   ],
   "source": [
    "DENSE_AMOUNT = 500\n",
    "\n",
    "\n",
    "INPUT = np.zeros((DENSE_AMOUNT,Vec_Len))\n",
    "OUTPUT = np.zeros((DENSE_AMOUNT,Vec_Len))\n",
    "for i in range(DENSE_AMOUNT):\n",
    "    assort = AG.GenAssortment_Sparse(N_prod)    \n",
    "    INPUT[i] = AG.Product_0(assort)\n",
    "    OUTPUT[i] = MG.Absorbing_Calculator(lams, transP, assort)\n",
    "\n",
    "\n",
    "INPUT=torch.Tensor(INPUT)\n",
    "OUTPUT = torch.Tensor(OUTPUT)\n",
    "\n",
    "MODEL_OUT = model(INPUT)\n",
    "\n",
    "RELATIVE_LOSS = nn.functional.l1_loss(OUTPUT, MODEL_OUT, size_average=False, reduce = False, reduction = None) / torch.clamp(OUTPUT, min = 1/Vec_Len)\n",
    "\n",
    "losses = torch.clamp(torch.reshape(RELATIVE_LOSS,(-1,)), max=2).detach().numpy()\n",
    "\n",
    "plt.hist(losses)\n"
   ]
  },
  {
   "cell_type": "markdown",
   "id": "ce7d5a26",
   "metadata": {},
   "source": [
    "## generally speaking, EXP4 is not as good as EXP2, both interms of accuracy and robustness. We can discard EXP4"
   ]
  },
  {
   "cell_type": "code",
   "execution_count": null,
   "id": "e99871da",
   "metadata": {},
   "outputs": [],
   "source": []
  }
 ],
 "metadata": {
  "kernelspec": {
   "display_name": "Python 3 (ipykernel)",
   "language": "python",
   "name": "python3"
  },
  "language_info": {
   "codemirror_mode": {
    "name": "ipython",
    "version": 3
   },
   "file_extension": ".py",
   "mimetype": "text/x-python",
   "name": "python",
   "nbconvert_exporter": "python",
   "pygments_lexer": "ipython3",
   "version": "3.9.7"
  }
 },
 "nbformat": 4,
 "nbformat_minor": 5
}
