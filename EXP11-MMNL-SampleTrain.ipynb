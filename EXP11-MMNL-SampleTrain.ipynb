{
 "cells": [
  {
   "cell_type": "markdown",
   "id": "dadb3ddd",
   "metadata": {},
   "source": [
    "## Mixture of log likelihood model, sample train"
   ]
  },
  {
   "cell_type": "code",
   "execution_count": 7,
   "id": "24f3cf7f",
   "metadata": {},
   "outputs": [
    {
     "name": "stdout",
     "output_type": "stream",
     "text": [
      "data generated!\n",
      "total time elapse :  1.0376570224761963\n",
      "epoch :  50\n",
      "epoch :  100\n",
      "epoch :  150\n",
      "epoch :  200\n",
      "epoch :  250\n",
      "epoch :  300\n",
      "epoch :  350\n",
      "epoch :  400\n",
      "epoch :  450\n",
      "epoch :  500\n",
      "epoch :  550\n",
      "epoch :  600\n",
      "epoch :  650\n",
      "epoch :  700\n",
      "epoch :  750\n",
      "epoch :  800\n",
      "epoch :  850\n",
      "epoch :  900\n",
      "epoch :  950\n",
      "epoch :  1000\n",
      "epoch :  1050\n",
      "epoch :  1100\n",
      "epoch :  1150\n",
      "epoch :  1200\n",
      "epoch :  1250\n",
      "epoch :  1300\n",
      "epoch :  1350\n",
      "epoch :  1400\n",
      "epoch :  1450\n",
      "epoch :  1500\n",
      "epoch :  1550\n",
      "epoch :  1600\n",
      "epoch :  1650\n",
      "epoch :  1700\n",
      "epoch :  1750\n",
      "epoch :  1800\n",
      "epoch :  1850\n",
      "epoch :  1900\n",
      "epoch :  1950\n",
      "epoch :  2000\n",
      "epoch :  2050\n",
      "epoch :  2100\n",
      "epoch :  2150\n",
      "epoch :  2200\n",
      "epoch :  2250\n",
      "epoch :  2300\n",
      "epoch :  2350\n",
      "epoch :  2400\n",
      "epoch :  2450\n",
      "epoch :  2500\n",
      "epoch :  2550\n",
      "epoch :  2600\n",
      "epoch :  2650\n",
      "epoch :  2700\n",
      "epoch :  2750\n",
      "epoch :  2800\n",
      "epoch :  2850\n",
      "epoch :  2900\n",
      "epoch :  2950\n",
      "epoch :  3000\n"
     ]
    }
   ],
   "source": [
    "import AssortmentGenerator as AG\n",
    "import MarkovGenerator as MG\n",
    "import LatentSchemeGenerator as LSG\n",
    "import Models\n",
    "import time\n",
    "\n",
    "import numpy as np\n",
    "import torch\n",
    "import torch.nn as nn\n",
    "\n",
    "from torch import optim\n",
    "from torch.utils.data import Dataset, DataLoader, TensorDataset\n",
    "import matplotlib.pyplot as plt\n",
    "\n",
    "start_time = time.time()\n",
    "\n",
    "N_prod = 250        # number of products\n",
    "Vec_Len = N_prod + 1\n",
    "Neck_Len = 30       # bottle neck width\n",
    "\n",
    "N_MIX = 100 # is this mix number too large?\n",
    "\n",
    "EPOCHS = 3000\n",
    "SAMPLE_AMOUNT = 5000\n",
    "BATCH_SIZE = 100\n",
    "TRAIN_VALI_RATE = 0.9\n",
    "ADAM_LR = 0.0005\n",
    "\n",
    "# generate latent parameters\n",
    "latent_scheme = LSG.MMNL_generator(N_prod, N_MIX)\n",
    "\n",
    "mix_para = np.load('EXP11_dump/MMNL_mix_para.npy')\n",
    "choose_para = np.load('EXP11_dump/MMNL_chos_para.npy')\n",
    "\n",
    "latent_scheme.mixture_para = mix_para\n",
    "latent_scheme.choose_para = choose_para\n",
    "\n",
    "\n",
    "# generate synthetic data\n",
    "INPUT = np.zeros((SAMPLE_AMOUNT,Vec_Len))\n",
    "OUTPUT = np.zeros((SAMPLE_AMOUNT,Vec_Len))\n",
    "for i in range(SAMPLE_AMOUNT):\n",
    "    \n",
    "    # abundant generation\n",
    "    assort = AG.GenAssortment_Abundant(N_prod)\n",
    "        \n",
    "    INPUT[i] = AG.Product_0(assort)\n",
    "    \n",
    "    # use decision sample\n",
    "    OUTPUT[i] = latent_scheme.gen_final_choice(assort)\n",
    "\n",
    "print(\"data generated!\")\n",
    "print(\"total time elapse : \",time.time()-start_time)\n",
    "\n",
    "model = Models.Bottleneck(Vec_Len, Neck_Len)\n",
    "\n",
    "train_dataset = TensorDataset(torch.Tensor(INPUT[:int(SAMPLE_AMOUNT * TRAIN_VALI_RATE)]),torch.Tensor(OUTPUT[:int(SAMPLE_AMOUNT * TRAIN_VALI_RATE)]))    \n",
    "vali_dataset = TensorDataset(torch.Tensor(INPUT[int(SAMPLE_AMOUNT * TRAIN_VALI_RATE):]),torch.Tensor(OUTPUT[int(SAMPLE_AMOUNT * TRAIN_VALI_RATE):]))    \n",
    "\n",
    "train_loader = DataLoader(train_dataset, shuffle=True, batch_size = BATCH_SIZE)\n",
    "vali_loader = DataLoader(vali_dataset, shuffle=True, batch_size = len(vali_dataset))\n",
    "\n",
    "optimizer = optim.Adam(model.parameters(), lr = ADAM_LR)\n",
    "criterion = nn.BCELoss()\n",
    "\n",
    "training_losses = []\n",
    "vali_losses = []\n",
    "\n",
    "for epo in range(1,EPOCHS+1):\n",
    "    if epo % 50 == 0:\n",
    "        print(\"epoch : \",epo)\n",
    "    for step, (IN, TEST) in enumerate(train_loader):\n",
    "        \n",
    "        OUT = model(IN)\n",
    "        loss = criterion(OUT,TEST)\n",
    "        optimizer.zero_grad()\n",
    "        loss.backward()\n",
    "        optimizer.step()\n",
    "        \n",
    "        loss_pure = loss.detach().item()\n",
    "        training_losses.append(loss_pure)\n",
    "        \n",
    "    for step, (VALI_IN, TEST) in enumerate(vali_loader):\n",
    "\n",
    "        VALI_OUT = model(VALI_IN)\n",
    "        \n",
    "        VALI_IN = VALI_IN.detach().numpy()[:,1:]\n",
    "        \n",
    "        VALI_TEST = np.zeros((len(VALI_IN),Vec_Len))\n",
    "        \n",
    "        for i in range(len(VALI_IN)):\n",
    "            \n",
    "            VALI_TEST[i] = latent_scheme.gen_final_choice(VALI_IN[i])\n",
    "            \n",
    "        VALI_TEST =torch.Tensor(VALI_TEST)\n",
    "        \n",
    "        RELATIVE_LOSS = nn.functional.l1_loss(VALI_TEST, VALI_OUT, size_average=False, reduce = False, reduction = None) / torch.clamp(VALI_TEST, min = 1/Vec_Len)\n",
    "\n",
    "        losses = np.mean(torch.clamp(torch.reshape(RELATIVE_LOSS,(-1,)), max=4).detach().numpy())\n",
    "        \n",
    "        vali_losses = np.append(vali_losses,losses)\n",
    "\n",
    "np.save('EXP11-sample_dump/bottleneck_train_loss', training_losses)\n",
    "np.save('EXP11-sample_dump/bottleneck_vali_loss', vali_losses)\n",
    "torch.save(model, \"EXP11-sample_dump/bottleneck_model.pth\")"
   ]
  },
  {
   "cell_type": "code",
   "execution_count": 8,
   "id": "733b1cf4",
   "metadata": {},
   "outputs": [
    {
     "data": {
      "text/plain": [
       "[<matplotlib.lines.Line2D at 0x1393f6850>]"
      ]
     },
     "execution_count": 8,
     "metadata": {},
     "output_type": "execute_result"
    },
    {
     "data": {
      "image/png": "[encoded data removed]",
      "text/plain": [
       "<Figure size 432x288 with 1 Axes>"
      ]
     },
     "metadata": {
      "needs_background": "light"
     },
     "output_type": "display_data"
    }
   ],
   "source": [
    "train_loss = np.load('EXP11-sample_dump/bottleneck_train_loss.npy')\n",
    "plt.plot(train_loss)"
   ]
  },
  {
   "cell_type": "code",
   "execution_count": 10,
   "id": "28860855",
   "metadata": {},
   "outputs": [
    {
     "data": {
      "text/plain": [
       "[<matplotlib.lines.Line2D at 0x137c85a90>]"
      ]
     },
     "execution_count": 10,
     "metadata": {},
     "output_type": "execute_result"
    },
    {
     "data": {
      "image/png": "[encoded data removed]",
      "text/plain": [
       "<Figure size 432x288 with 1 Axes>"
      ]
     },
     "metadata": {
      "needs_background": "light"
     },
     "output_type": "display_data"
    }
   ],
   "source": [
    "train_loss = np.load('EXP11-sample_dump/bottleneck_vali_loss.npy')\n",
    "plt.plot(train_loss[1000:])"
   ]
  },
  {
   "cell_type": "markdown",
   "id": "9f80fa9b",
   "metadata": {},
   "source": [
    "## histogram test"
   ]
  },
  {
   "cell_type": "code",
   "execution_count": 14,
   "id": "e629bb8c",
   "metadata": {},
   "outputs": [
    {
     "data": {
      "text/plain": [
       "(array([3.47472e+05, 6.78600e+03, 8.92200e+03, 1.68840e+04, 1.07871e+05,\n",
       "        4.58000e+02, 3.78000e+02, 3.35000e+02, 2.91000e+02, 1.26030e+04]),\n",
       " array([5.123206e-12, 2.000000e-01, 4.000000e-01, 6.000000e-01,\n",
       "        8.000000e-01, 1.000000e+00, 1.200000e+00, 1.400000e+00,\n",
       "        1.600000e+00, 1.800000e+00, 2.000000e+00], dtype=float32),\n",
       " <BarContainer object of 10 artists>)"
      ]
     },
     "execution_count": 14,
     "metadata": {},
     "output_type": "execute_result"
    },
    {
     "data": {
      "image/png": "[encoded data removed]",
      "text/plain": [
       "<Figure size 432x288 with 1 Axes>"
      ]
     },
     "metadata": {
      "needs_background": "light"
     },
     "output_type": "display_data"
    }
   ],
   "source": [
    "N_prod = 250        # number of products\n",
    "Vec_Len = N_prod + 1\n",
    "\n",
    "SAMPLE_AMOUNT = 2000\n",
    "\n",
    "model = torch.load(\"EXP11-sample_dump/bottleneck_model.pth\")\n",
    "INPUT = np.zeros((SAMPLE_AMOUNT,Vec_Len))\n",
    "OUTPUT = np.zeros((SAMPLE_AMOUNT,Vec_Len))\n",
    "for i in range(SAMPLE_AMOUNT):\n",
    "    assort = AG.GenAssortment_Even(N_prod, 3/10)    \n",
    "    INPUT[i] = AG.Product_0(assort)\n",
    "    OUTPUT[i] = latent_scheme.prob_for_assortment(assort)\n",
    "\n",
    "\n",
    "INPUT=torch.Tensor(INPUT)\n",
    "OUTPUT = torch.Tensor(OUTPUT)\n",
    "\n",
    "MODEL_OUT = model(INPUT)\n",
    "\n",
    "RELATIVE_LOSS = nn.functional.l1_loss(OUTPUT, MODEL_OUT, size_average=False, reduce = False, reduction = None) / torch.clamp(OUTPUT, min = 1/Vec_Len)\n",
    "\n",
    "losses = torch.clamp(torch.reshape(RELATIVE_LOSS,(-1,)), max=2).detach().numpy()\n",
    "\n",
    "plt.hist(losses)"
   ]
  },
  {
   "cell_type": "markdown",
   "id": "9fb4524b",
   "metadata": {},
   "source": [
    "## second train"
   ]
  },
  {
   "cell_type": "code",
   "execution_count": 15,
   "id": "7d9f9e2d",
   "metadata": {},
   "outputs": [
    {
     "name": "stdout",
     "output_type": "stream",
     "text": [
      "data generated!\n",
      "total time elapse :  1.301995038986206\n",
      "epoch :  50\n",
      "epoch :  100\n",
      "epoch :  150\n",
      "epoch :  200\n",
      "epoch :  250\n",
      "epoch :  300\n",
      "epoch :  350\n",
      "epoch :  400\n",
      "epoch :  450\n",
      "epoch :  500\n",
      "epoch :  550\n",
      "epoch :  600\n",
      "epoch :  650\n",
      "epoch :  700\n",
      "epoch :  750\n",
      "epoch :  800\n",
      "epoch :  850\n",
      "epoch :  900\n",
      "epoch :  950\n",
      "epoch :  1000\n",
      "epoch :  1050\n",
      "epoch :  1100\n",
      "epoch :  1150\n",
      "epoch :  1200\n",
      "epoch :  1250\n",
      "epoch :  1300\n",
      "epoch :  1350\n",
      "epoch :  1400\n",
      "epoch :  1450\n",
      "epoch :  1500\n",
      "epoch :  1550\n",
      "epoch :  1600\n",
      "epoch :  1650\n",
      "epoch :  1700\n",
      "epoch :  1750\n",
      "epoch :  1800\n",
      "epoch :  1850\n",
      "epoch :  1900\n",
      "epoch :  1950\n",
      "epoch :  2000\n",
      "epoch :  2050\n",
      "epoch :  2100\n",
      "epoch :  2150\n",
      "epoch :  2200\n",
      "epoch :  2250\n",
      "epoch :  2300\n",
      "epoch :  2350\n",
      "epoch :  2400\n",
      "epoch :  2450\n",
      "epoch :  2500\n",
      "epoch :  2550\n",
      "epoch :  2600\n",
      "epoch :  2650\n",
      "epoch :  2700\n",
      "epoch :  2750\n",
      "epoch :  2800\n",
      "epoch :  2850\n",
      "epoch :  2900\n",
      "epoch :  2950\n",
      "epoch :  3000\n"
     ]
    }
   ],
   "source": [
    "import AssortmentGenerator as AG\n",
    "import MarkovGenerator as MG\n",
    "import LatentSchemeGenerator as LSG\n",
    "import Models\n",
    "import time\n",
    "\n",
    "import numpy as np\n",
    "import torch\n",
    "import torch.nn as nn\n",
    "\n",
    "from torch import optim\n",
    "from torch.utils.data import Dataset, DataLoader, TensorDataset\n",
    "import matplotlib.pyplot as plt\n",
    "\n",
    "start_time = time.time()\n",
    "\n",
    "N_prod = 250        # number of products\n",
    "Vec_Len = N_prod + 1\n",
    "Neck_Len = 30       # bottle neck width\n",
    "\n",
    "N_MIX = 100 # is this mix number too large?\n",
    "\n",
    "EPOCHS = 3000\n",
    "SAMPLE_AMOUNT = 5000\n",
    "BATCH_SIZE = 100\n",
    "TRAIN_VALI_RATE = 0.9\n",
    "ADAM_LR = 0.0005\n",
    "\n",
    "# generate latent parameters\n",
    "latent_scheme = LSG.MMNL_generator(N_prod, N_MIX)\n",
    "\n",
    "mix_para = np.load('EXP11_dump/MMNL_mix_para.npy')\n",
    "choose_para = np.load('EXP11_dump/MMNL_chos_para.npy')\n",
    "\n",
    "latent_scheme.mixture_para = mix_para\n",
    "latent_scheme.choose_para = choose_para\n",
    "\n",
    "\n",
    "# generate synthetic data\n",
    "INPUT = np.zeros((SAMPLE_AMOUNT,Vec_Len))\n",
    "OUTPUT = np.zeros((SAMPLE_AMOUNT,Vec_Len))\n",
    "for i in range(SAMPLE_AMOUNT):\n",
    "    \n",
    "    idx = np.random.uniform(low = 0,high = 1)\n",
    "    if idx > 0.9:\n",
    "        assort = assort = AG.GenAssortment_Fixed(N_prod,N_prod)\n",
    "    else:\n",
    "        assort = AG.GenAssortment_Fixed(N_prod,N_prod-1)  \n",
    "        \n",
    "    INPUT[i] = AG.Product_0(assort)\n",
    "    \n",
    "    # use decision sample\n",
    "    OUTPUT[i] = latent_scheme.gen_final_choice(assort)\n",
    "\n",
    "print(\"data generated!\")\n",
    "print(\"total time elapse : \",time.time()-start_time)\n",
    "\n",
    "model = Models.Bottleneck(Vec_Len, Neck_Len)\n",
    "\n",
    "train_dataset = TensorDataset(torch.Tensor(INPUT[:int(SAMPLE_AMOUNT * TRAIN_VALI_RATE)]),torch.Tensor(OUTPUT[:int(SAMPLE_AMOUNT * TRAIN_VALI_RATE)]))    \n",
    "vali_dataset = TensorDataset(torch.Tensor(INPUT[int(SAMPLE_AMOUNT * TRAIN_VALI_RATE):]),torch.Tensor(OUTPUT[int(SAMPLE_AMOUNT * TRAIN_VALI_RATE):]))    \n",
    "\n",
    "train_loader = DataLoader(train_dataset, shuffle=True, batch_size = BATCH_SIZE)\n",
    "vali_loader = DataLoader(vali_dataset, shuffle=True, batch_size = len(vali_dataset))\n",
    "\n",
    "optimizer = optim.Adam(model.parameters(), lr = ADAM_LR)\n",
    "criterion = nn.BCELoss()\n",
    "\n",
    "training_losses = []\n",
    "vali_losses = []\n",
    "\n",
    "for epo in range(1,EPOCHS+1):\n",
    "    if epo % 50 == 0:\n",
    "        print(\"epoch : \",epo)\n",
    "    for step, (IN, TEST) in enumerate(train_loader):\n",
    "        \n",
    "        OUT = model(IN)\n",
    "        loss = criterion(OUT,TEST)\n",
    "        optimizer.zero_grad()\n",
    "        loss.backward()\n",
    "        optimizer.step()\n",
    "        \n",
    "        loss_pure = loss.detach().item()\n",
    "        training_losses.append(loss_pure)\n",
    "        \n",
    "    for step, (VALI_IN, TEST) in enumerate(vali_loader):\n",
    "\n",
    "        VALI_OUT = model(VALI_IN)\n",
    "        \n",
    "        VALI_IN = VALI_IN.detach().numpy()[:,1:]\n",
    "        \n",
    "        VALI_TEST = np.zeros((len(VALI_IN),Vec_Len))\n",
    "        \n",
    "        for i in range(len(VALI_IN)):\n",
    "            \n",
    "            VALI_TEST[i] = latent_scheme.gen_final_choice(VALI_IN[i])\n",
    "            \n",
    "        VALI_TEST =torch.Tensor(VALI_TEST)\n",
    "        \n",
    "        RELATIVE_LOSS = nn.functional.l1_loss(VALI_TEST, VALI_OUT, size_average=False, reduce = False, reduction = None) / torch.clamp(VALI_TEST, min = 1/Vec_Len)\n",
    "\n",
    "        losses = np.mean(torch.clamp(torch.reshape(RELATIVE_LOSS,(-1,)), max=4).detach().numpy())\n",
    "        \n",
    "        vali_losses = np.append(vali_losses,losses)\n",
    "\n",
    "np.save('EXP11-sample_dump/bottleneck_train_loss_second', training_losses)\n",
    "np.save('EXP11-sample_dump/bottleneck_vali_loss_second', vali_losses)\n",
    "torch.save(model, \"EXP11-sample_dump/bottleneck_model_second.pth\")"
   ]
  },
  {
   "cell_type": "code",
   "execution_count": 16,
   "id": "aefd3098",
   "metadata": {},
   "outputs": [
    {
     "data": {
      "text/plain": [
       "[<matplotlib.lines.Line2D at 0x13811fd00>]"
      ]
     },
     "execution_count": 16,
     "metadata": {},
     "output_type": "execute_result"
    },
    {
     "data": {
      "image/png": "[encoded data removed]",
      "text/plain": [
       "<Figure size 432x288 with 1 Axes>"
      ]
     },
     "metadata": {
      "needs_background": "light"
     },
     "output_type": "display_data"
    }
   ],
   "source": [
    "train_loss = np.load('EXP11-sample_dump/bottleneck_train_loss_second.npy')\n",
    "plt.plot(train_loss)"
   ]
  },
  {
   "cell_type": "code",
   "execution_count": 17,
   "id": "d28be08f",
   "metadata": {},
   "outputs": [
    {
     "data": {
      "text/plain": [
       "[<matplotlib.lines.Line2D at 0x13859b340>]"
      ]
     },
     "execution_count": 17,
     "metadata": {},
     "output_type": "execute_result"
    },
    {
     "data": {
      "image/png": "[encoded data removed]",
      "text/plain": [
       "<Figure size 432x288 with 1 Axes>"
      ]
     },
     "metadata": {
      "needs_background": "light"
     },
     "output_type": "display_data"
    }
   ],
   "source": [
    "train_loss = np.load('EXP11-sample_dump/bottleneck_vali_loss_second.npy')\n",
    "plt.plot(train_loss[100:])"
   ]
  },
  {
   "cell_type": "code",
   "execution_count": 20,
   "id": "2cb3aa56",
   "metadata": {},
   "outputs": [
    {
     "data": {
      "text/plain": [
       "(array([ 45144.,   8000.,   9095.,  14042., 310188.,  66119.,   1270.,\n",
       "          1131.,   1042.,  45969.]),\n",
       " array([3.0157552e-27, 2.0000000e-01, 4.0000001e-01, 6.0000002e-01,\n",
       "        8.0000001e-01, 1.0000000e+00, 1.2000000e+00, 1.4000000e+00,\n",
       "        1.6000000e+00, 1.8000000e+00, 2.0000000e+00], dtype=float32),\n",
       " <BarContainer object of 10 artists>)"
      ]
     },
     "execution_count": 20,
     "metadata": {},
     "output_type": "execute_result"
    },
    {
     "data": {
      "image/png": "[encoded data removed]",
      "text/plain": [
       "<Figure size 432x288 with 1 Axes>"
      ]
     },
     "metadata": {
      "needs_background": "light"
     },
     "output_type": "display_data"
    }
   ],
   "source": [
    "N_prod = 250        # number of products\n",
    "Vec_Len = N_prod + 1\n",
    "\n",
    "SAMPLE_AMOUNT = 2000\n",
    "\n",
    "model = torch.load(\"EXP11-sample_dump/bottleneck_model_second.pth\")\n",
    "INPUT = np.zeros((SAMPLE_AMOUNT,Vec_Len))\n",
    "OUTPUT = np.zeros((SAMPLE_AMOUNT,Vec_Len))\n",
    "for i in range(SAMPLE_AMOUNT):\n",
    "    assort = AG.GenAssortment_Even(N_prod, 9/10)    \n",
    "    INPUT[i] = AG.Product_0(assort)\n",
    "    OUTPUT[i] = latent_scheme.prob_for_assortment(assort)\n",
    "\n",
    "\n",
    "INPUT=torch.Tensor(INPUT)\n",
    "OUTPUT = torch.Tensor(OUTPUT)\n",
    "\n",
    "MODEL_OUT = model(INPUT)\n",
    "\n",
    "RELATIVE_LOSS = nn.functional.l1_loss(OUTPUT, MODEL_OUT, size_average=False, reduce = False, reduction = None) / torch.clamp(OUTPUT, min = 1/Vec_Len)\n",
    "\n",
    "losses = torch.clamp(torch.reshape(RELATIVE_LOSS,(-1,)), max=2).detach().numpy()\n",
    "\n",
    "plt.hist(losses)"
   ]
  },
  {
   "cell_type": "code",
   "execution_count": null,
   "id": "e0ca1b68",
   "metadata": {},
   "outputs": [],
   "source": []
  }
 ],
 "metadata": {
  "kernelspec": {
   "display_name": "Python 3 (ipykernel)",
   "language": "python",
   "name": "python3"
  },
  "language_info": {
   "codemirror_mode": {
    "name": "ipython",
    "version": 3
   },
   "file_extension": ".py",
   "mimetype": "text/x-python",
   "name": "python",
   "nbconvert_exporter": "python",
   "pygments_lexer": "ipython3",
   "version": "3.9.7"
  }
 },
 "nbformat": 4,
 "nbformat_minor": 5
}
