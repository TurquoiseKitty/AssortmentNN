{
 "cells": [
  {
   "cell_type": "markdown",
   "id": "6c07a3bf",
   "metadata": {},
   "source": [
    "## dense transition matrix, dense assortment input"
   ]
  },
  {
   "cell_type": "code",
   "execution_count": 5,
   "id": "09955a12",
   "metadata": {},
   "outputs": [
    {
     "name": "stdout",
     "output_type": "stream",
     "text": [
      "data generated!\n",
      "total time elapse :  1.753173828125\n",
      "epoch :  50\n",
      "epoch :  100\n",
      "epoch :  150\n",
      "epoch :  200\n",
      "epoch :  250\n",
      "epoch :  300\n",
      "epoch :  350\n",
      "epoch :  400\n",
      "epoch :  450\n",
      "epoch :  500\n",
      "epoch :  550\n",
      "epoch :  600\n",
      "epoch :  650\n",
      "epoch :  700\n",
      "epoch :  750\n",
      "epoch :  800\n",
      "epoch :  850\n",
      "epoch :  900\n",
      "epoch :  950\n",
      "epoch :  1000\n",
      "epoch :  1050\n",
      "epoch :  1100\n",
      "epoch :  1150\n",
      "epoch :  1200\n",
      "epoch :  1250\n",
      "epoch :  1300\n",
      "epoch :  1350\n",
      "epoch :  1400\n",
      "epoch :  1450\n",
      "epoch :  1500\n",
      "epoch :  1550\n",
      "epoch :  1600\n",
      "epoch :  1650\n",
      "epoch :  1700\n",
      "epoch :  1750\n",
      "epoch :  1800\n",
      "epoch :  1850\n",
      "epoch :  1900\n",
      "epoch :  1950\n",
      "epoch :  2000\n",
      "epoch :  2050\n",
      "epoch :  2100\n",
      "epoch :  2150\n",
      "epoch :  2200\n",
      "epoch :  2250\n",
      "epoch :  2300\n",
      "epoch :  2350\n",
      "epoch :  2400\n",
      "epoch :  2450\n",
      "epoch :  2500\n",
      "epoch :  2550\n",
      "epoch :  2600\n",
      "epoch :  2650\n",
      "epoch :  2700\n",
      "epoch :  2750\n",
      "epoch :  2800\n",
      "epoch :  2850\n",
      "epoch :  2900\n",
      "epoch :  2950\n",
      "epoch :  3000\n",
      "epoch :  3050\n",
      "epoch :  3100\n",
      "epoch :  3150\n",
      "epoch :  3200\n",
      "epoch :  3250\n",
      "epoch :  3300\n",
      "epoch :  3350\n",
      "epoch :  3400\n",
      "epoch :  3450\n",
      "epoch :  3500\n",
      "epoch :  3550\n",
      "epoch :  3600\n",
      "epoch :  3650\n",
      "epoch :  3700\n",
      "epoch :  3750\n",
      "epoch :  3800\n",
      "epoch :  3850\n",
      "epoch :  3900\n",
      "epoch :  3950\n",
      "epoch :  4000\n",
      "epoch :  4050\n",
      "epoch :  4100\n",
      "epoch :  4150\n",
      "epoch :  4200\n",
      "epoch :  4250\n",
      "epoch :  4300\n",
      "epoch :  4350\n",
      "epoch :  4400\n",
      "epoch :  4450\n",
      "epoch :  4500\n",
      "epoch :  4550\n",
      "epoch :  4600\n",
      "epoch :  4650\n",
      "epoch :  4700\n",
      "epoch :  4750\n",
      "epoch :  4800\n",
      "epoch :  4850\n",
      "epoch :  4900\n",
      "epoch :  4950\n",
      "epoch :  5000\n",
      "epoch :  5050\n",
      "epoch :  5100\n",
      "epoch :  5150\n",
      "epoch :  5200\n",
      "epoch :  5250\n",
      "epoch :  5300\n",
      "epoch :  5350\n",
      "epoch :  5400\n",
      "epoch :  5450\n",
      "epoch :  5500\n",
      "epoch :  5550\n",
      "epoch :  5600\n",
      "epoch :  5650\n",
      "epoch :  5700\n",
      "epoch :  5750\n",
      "epoch :  5800\n",
      "epoch :  5850\n",
      "epoch :  5900\n",
      "epoch :  5950\n",
      "epoch :  6000\n",
      "epoch :  6050\n",
      "epoch :  6100\n",
      "epoch :  6150\n",
      "epoch :  6200\n",
      "epoch :  6250\n",
      "epoch :  6300\n",
      "epoch :  6350\n",
      "epoch :  6400\n",
      "epoch :  6450\n",
      "epoch :  6500\n",
      "epoch :  6550\n",
      "epoch :  6600\n",
      "epoch :  6650\n",
      "epoch :  6700\n",
      "epoch :  6750\n",
      "epoch :  6800\n",
      "epoch :  6850\n",
      "epoch :  6900\n",
      "epoch :  6950\n",
      "epoch :  7000\n",
      "epoch :  7050\n",
      "epoch :  7100\n",
      "epoch :  7150\n",
      "epoch :  7200\n",
      "epoch :  7250\n",
      "epoch :  7300\n",
      "epoch :  7350\n",
      "epoch :  7400\n",
      "epoch :  7450\n",
      "epoch :  7500\n",
      "epoch :  7550\n",
      "epoch :  7600\n",
      "epoch :  7650\n",
      "epoch :  7700\n",
      "epoch :  7750\n",
      "epoch :  7800\n",
      "epoch :  7850\n",
      "epoch :  7900\n",
      "epoch :  7950\n",
      "epoch :  8000\n",
      "epoch :  8050\n",
      "epoch :  8100\n",
      "epoch :  8150\n",
      "epoch :  8200\n",
      "epoch :  8250\n",
      "epoch :  8300\n",
      "epoch :  8350\n",
      "epoch :  8400\n",
      "epoch :  8450\n",
      "epoch :  8500\n",
      "epoch :  8550\n",
      "epoch :  8600\n",
      "epoch :  8650\n",
      "epoch :  8700\n",
      "epoch :  8750\n",
      "epoch :  8800\n",
      "epoch :  8850\n",
      "epoch :  8900\n",
      "epoch :  8950\n",
      "epoch :  9000\n",
      "epoch :  9050\n",
      "epoch :  9100\n",
      "epoch :  9150\n",
      "epoch :  9200\n",
      "epoch :  9250\n",
      "epoch :  9300\n",
      "epoch :  9350\n",
      "epoch :  9400\n",
      "epoch :  9450\n",
      "epoch :  9500\n",
      "epoch :  9550\n",
      "epoch :  9600\n",
      "epoch :  9650\n",
      "epoch :  9700\n",
      "epoch :  9750\n",
      "epoch :  9800\n",
      "epoch :  9850\n",
      "epoch :  9900\n",
      "epoch :  9950\n",
      "epoch :  10000\n"
     ]
    }
   ],
   "source": [
    "import AssortmentGenerator as AG\n",
    "import MarkovGenerator as MG\n",
    "import Models\n",
    "import time\n",
    "\n",
    "import numpy as np\n",
    "import torch\n",
    "import torch.nn as nn\n",
    "\n",
    "from torch import optim\n",
    "from torch.utils.data import Dataset, DataLoader, TensorDataset\n",
    "import matplotlib.pyplot as plt\n",
    "\n",
    "start_time = time.time()\n",
    "\n",
    "N_prod = 250        # number of products\n",
    "Vec_Len = N_prod + 1\n",
    "Neck_Len = 30       # bottle neck width\n",
    "EPOCHS = 10000\n",
    "SAMPLE_AMOUNT = 5000\n",
    "BATCH_SIZE = 5000\n",
    "TRAIN_VALI_RATE = 0.9\n",
    "ADAM_LR = 0.0005\n",
    "\n",
    "# generate latent parameters\n",
    "transP = np.load(\"EXP10_dump/markov_matrix.npy\")\n",
    "lams = np.load(\"EXP10_dump/arriving_lambda.npy\")\n",
    "model = torch.load(\"EXP10_dump/bottleneck_model.pth\")\n",
    "\n",
    "# generate synthetic data\n",
    "INPUT = np.zeros((SAMPLE_AMOUNT,Vec_Len))\n",
    "OUTPUT = np.zeros((SAMPLE_AMOUNT,Vec_Len))\n",
    "for i in range(SAMPLE_AMOUNT):\n",
    "    \n",
    "    idx = np.random.uniform(low = 0,high = 1)\n",
    "    if idx > 0.9:\n",
    "        assort = assort = AG.GenAssortment_Fixed(N_prod,N_prod)\n",
    "    else:\n",
    "        assort = AG.GenAssortment_Fixed(N_prod,N_prod-1)    \n",
    "    INPUT[i] = AG.Product_0(assort)\n",
    "    OUTPUT[i] = MG.Absorbing_Calculator(lams, transP, assort)\n",
    "\n",
    "print(\"data generated!\")\n",
    "print(\"total time elapse : \",time.time()-start_time)\n",
    "\n",
    "train_dataset = TensorDataset(torch.Tensor(INPUT[:int(SAMPLE_AMOUNT * TRAIN_VALI_RATE)]),torch.Tensor(OUTPUT[:int(SAMPLE_AMOUNT * TRAIN_VALI_RATE)]))    \n",
    "vali_dataset = TensorDataset(torch.Tensor(INPUT[int(SAMPLE_AMOUNT * TRAIN_VALI_RATE):]),torch.Tensor(OUTPUT[int(SAMPLE_AMOUNT * TRAIN_VALI_RATE):]))    \n",
    "\n",
    "train_loader = DataLoader(train_dataset, shuffle=True, batch_size = BATCH_SIZE)\n",
    "vali_loader = DataLoader(vali_dataset, shuffle=True, batch_size = len(vali_dataset))\n",
    "\n",
    "optimizer = optim.Adam(model.parameters(), lr = ADAM_LR)\n",
    "criterion = nn.BCELoss()\n",
    "\n",
    "training_losses = []\n",
    "vali_losses = []\n",
    "\n",
    "for epo in range(1,EPOCHS+1):\n",
    "    if epo % 50 == 0:\n",
    "        print(\"epoch : \",epo)\n",
    "    for step, (IN, TEST) in enumerate(train_loader):\n",
    "        \n",
    "        OUT = model(IN)\n",
    "        loss = criterion(OUT,TEST)\n",
    "        optimizer.zero_grad()\n",
    "        loss.backward()\n",
    "        optimizer.step()\n",
    "        \n",
    "        loss_pure = loss.detach().item()\n",
    "        loss_base = criterion(TEST,TEST).detach().item()\n",
    "        training_losses.append((loss_pure - loss_base)/loss_base)\n",
    "        \n",
    "    for step, (VALI_IN, VALI_TEST) in enumerate(vali_loader):\n",
    "        VALI_OUT = model(VALI_IN)\n",
    "        loss = criterion(VALI_OUT,VALI_TEST)\n",
    "\n",
    "        loss_pure = loss.detach().item()\n",
    "        loss_base = criterion(VALI_TEST,VALI_TEST).detach().item()\n",
    "        vali_losses.append((loss_pure - loss_base)/loss_base)\n",
    "\n",
    "np.save('EXP10_dump/bottleneck_train_loss', training_losses)\n",
    "np.save('EXP10_dump/bottleneck_vali_loss', vali_losses)\n",
    "torch.save(model, \"EXP10_dump/bottleneck_model.pth\")"
   ]
  },
  {
   "cell_type": "code",
   "execution_count": 7,
   "id": "fccd30ba",
   "metadata": {},
   "outputs": [
    {
     "data": {
      "text/plain": [
       "[<matplotlib.lines.Line2D at 0x2adc97b9dc0>]"
      ]
     },
     "execution_count": 7,
     "metadata": {},
     "output_type": "execute_result"
    },
    {
     "data": {
      "image/png": "[encoded data removed]",
      "text/plain": [
       "<Figure size 432x288 with 1 Axes>"
      ]
     },
     "metadata": {
      "needs_background": "light"
     },
     "output_type": "display_data"
    }
   ],
   "source": [
    "train_loss = np.load('EXP10_dump/bottleneck_train_loss.npy')\n",
    "plt.plot(train_loss[2000:])"
   ]
  },
  {
   "cell_type": "code",
   "execution_count": 9,
   "id": "29044351",
   "metadata": {},
   "outputs": [
    {
     "data": {
      "text/plain": [
       "[<matplotlib.lines.Line2D at 0x2adc9807fa0>]"
      ]
     },
     "execution_count": 9,
     "metadata": {},
     "output_type": "execute_result"
    },
    {
     "data": {
      "image/png": "[encoded data removed]",
      "text/plain": [
       "<Figure size 432x288 with 1 Axes>"
      ]
     },
     "metadata": {
      "needs_background": "light"
     },
     "output_type": "display_data"
    }
   ],
   "source": [
    "vali_loss = np.load('EXP10_dump/bottleneck_vali_loss.npy')\n",
    "plt.plot(train_loss[2000:])"
   ]
  },
  {
   "cell_type": "markdown",
   "id": "2e01e092",
   "metadata": {},
   "source": [
    "## test sparse"
   ]
  },
  {
   "cell_type": "code",
   "execution_count": 10,
   "id": "db32560f",
   "metadata": {},
   "outputs": [
    {
     "name": "stderr",
     "output_type": "stream",
     "text": [
      "D:\\SOFTWARE\\ANACONDA\\lib\\site-packages\\torch\\nn\\_reduction.py:42: UserWarning: size_average and reduce args will be deprecated, please use reduction='none' instead.\n",
      "  warnings.warn(warning.format(ret))\n"
     ]
    },
    {
     "data": {
      "text/plain": [
       "(array([4.67684e+05, 8.09000e+02, 5.77000e+02, 1.55550e+04, 1.72460e+04,\n",
       "        1.60000e+01, 1.00000e+01, 1.10000e+01, 1.00000e+01, 8.20000e+01]),\n",
       " array([9.0465974e-06, 2.0000814e-01, 4.0000725e-01, 6.0000634e-01,\n",
       "        8.0000544e-01, 1.0000045e+00, 1.2000036e+00, 1.4000027e+00,\n",
       "        1.6000018e+00, 1.8000009e+00, 2.0000000e+00], dtype=float32),\n",
       " <BarContainer object of 10 artists>)"
      ]
     },
     "execution_count": 10,
     "metadata": {},
     "output_type": "execute_result"
    },
    {
     "data": {
      "image/png": "[encoded data removed]",
      "text/plain": [
       "<Figure size 432x288 with 1 Axes>"
      ]
     },
     "metadata": {
      "needs_background": "light"
     },
     "output_type": "display_data"
    }
   ],
   "source": [
    "import AssortmentGenerator as AG\n",
    "import MarkovGenerator as MG\n",
    "import Models\n",
    "import time\n",
    "\n",
    "import numpy as np\n",
    "import torch\n",
    "import torch.nn as nn\n",
    "\n",
    "from torch import optim\n",
    "from torch.utils.data import Dataset, DataLoader, TensorDataset\n",
    "import matplotlib.pyplot as plt\n",
    "\n",
    "N_prod = 250        # number of products\n",
    "Vec_Len = N_prod + 1\n",
    "\n",
    "DENSE_AMOUNT = 2000\n",
    "\n",
    "model = torch.load(\"EXP10_dump/bottleneck_model.pth\")\n",
    "INPUT = np.zeros((DENSE_AMOUNT,Vec_Len))\n",
    "OUTPUT = np.zeros((DENSE_AMOUNT,Vec_Len))\n",
    "for i in range(DENSE_AMOUNT):\n",
    "    assort = AG.GenAssortment_Sparse(N_prod)    \n",
    "    INPUT[i] = AG.Product_0(assort)\n",
    "    OUTPUT[i] = MG.Absorbing_Calculator(lams, transP, assort)\n",
    "\n",
    "\n",
    "INPUT=torch.Tensor(INPUT)\n",
    "OUTPUT = torch.Tensor(OUTPUT)\n",
    "\n",
    "MODEL_OUT = model(INPUT)\n",
    "\n",
    "RELATIVE_LOSS = nn.functional.l1_loss(OUTPUT, MODEL_OUT, size_average=False, reduce = False, reduction = None) / torch.clamp(OUTPUT, min = 1/Vec_Len)\n",
    "\n",
    "losses = torch.clamp(torch.reshape(RELATIVE_LOSS,(-1,)), max=2).detach().numpy()\n",
    "\n",
    "plt.hist(losses)"
   ]
  },
  {
   "cell_type": "markdown",
   "id": "28eec5b7",
   "metadata": {},
   "source": [
    "## test 3/4 dense"
   ]
  },
  {
   "cell_type": "code",
   "execution_count": 11,
   "id": "1670e850",
   "metadata": {},
   "outputs": [
    {
     "data": {
      "text/plain": [
       "(array([2.93827e+05, 1.95814e+05, 5.38200e+03, 2.06200e+03, 2.98700e+03,\n",
       "        3.64000e+02, 2.55000e+02, 1.91000e+02, 1.35000e+02, 9.83000e+02]),\n",
       " array([4.9009382e-06, 2.0000441e-01, 4.0000391e-01, 6.0000342e-01,\n",
       "        8.0000293e-01, 1.0000025e+00, 1.2000020e+00, 1.4000015e+00,\n",
       "        1.6000010e+00, 1.8000005e+00, 2.0000000e+00], dtype=float32),\n",
       " <BarContainer object of 10 artists>)"
      ]
     },
     "execution_count": 11,
     "metadata": {},
     "output_type": "execute_result"
    },
    {
     "data": {
      "image/png": "[encoded data removed]",
      "text/plain": [
       "<Figure size 432x288 with 1 Axes>"
      ]
     },
     "metadata": {
      "needs_background": "light"
     },
     "output_type": "display_data"
    }
   ],
   "source": [
    "N_prod = 250        # number of products\n",
    "Vec_Len = N_prod + 1\n",
    "\n",
    "DENSE_AMOUNT = 2000\n",
    "\n",
    "model = torch.load(\"EXP10_dump/bottleneck_model.pth\")\n",
    "INPUT = np.zeros((DENSE_AMOUNT,Vec_Len))\n",
    "OUTPUT = np.zeros((DENSE_AMOUNT,Vec_Len))\n",
    "for i in range(DENSE_AMOUNT):\n",
    "    assort = AG.GenAssortment_Even(N_prod, 3/4)    \n",
    "    INPUT[i] = AG.Product_0(assort)\n",
    "    OUTPUT[i] = MG.Absorbing_Calculator(lams, transP, assort)\n",
    "\n",
    "\n",
    "INPUT=torch.Tensor(INPUT)\n",
    "OUTPUT = torch.Tensor(OUTPUT)\n",
    "\n",
    "MODEL_OUT = model(INPUT)\n",
    "\n",
    "RELATIVE_LOSS = nn.functional.l1_loss(OUTPUT, MODEL_OUT, size_average=False, reduce = False, reduction = None) / torch.clamp(OUTPUT, min = 1/Vec_Len)\n",
    "\n",
    "losses = torch.clamp(torch.reshape(RELATIVE_LOSS,(-1,)), max=2).detach().numpy()\n",
    "\n",
    "plt.hist(losses)"
   ]
  },
  {
   "cell_type": "markdown",
   "id": "02f86e4e",
   "metadata": {},
   "source": [
    "## dense"
   ]
  },
  {
   "cell_type": "code",
   "execution_count": 12,
   "id": "767b9d33",
   "metadata": {},
   "outputs": [
    {
     "data": {
      "text/plain": [
       "(array([5.00714e+05, 7.80000e+02, 2.06000e+02, 1.47000e+02, 2.40000e+01,\n",
       "        2.20000e+01, 1.10000e+01, 5.00000e+00, 1.30000e+01, 7.80000e+01]),\n",
       " array([0. , 0.2, 0.4, 0.6, 0.8, 1. , 1.2, 1.4, 1.6, 1.8, 2. ],\n",
       "       dtype=float32),\n",
       " <BarContainer object of 10 artists>)"
      ]
     },
     "execution_count": 12,
     "metadata": {},
     "output_type": "execute_result"
    },
    {
     "data": {
      "image/png": "[encoded data removed]",
      "text/plain": [
       "<Figure size 432x288 with 1 Axes>"
      ]
     },
     "metadata": {
      "needs_background": "light"
     },
     "output_type": "display_data"
    }
   ],
   "source": [
    "DENSE_AMOUNT = 2000\n",
    "\n",
    "\n",
    "INPUT = np.zeros((DENSE_AMOUNT,Vec_Len))\n",
    "OUTPUT = np.zeros((DENSE_AMOUNT,Vec_Len))\n",
    "for i in range(DENSE_AMOUNT):\n",
    "    assort = AG.GenAssortment_Fixed(N_prod, fixed_num = N_prod-1)    \n",
    "    INPUT[i] = AG.Product_0(assort)\n",
    "    OUTPUT[i] = MG.Absorbing_Calculator(lams, transP, assort)\n",
    "\n",
    "\n",
    "INPUT=torch.Tensor(INPUT)\n",
    "OUTPUT = torch.Tensor(OUTPUT)\n",
    "\n",
    "MODEL_OUT = model(INPUT)\n",
    "\n",
    "RELATIVE_LOSS = nn.functional.l1_loss(OUTPUT, MODEL_OUT, size_average=False, reduce = False, reduction = None) / torch.clamp(OUTPUT, min = 1/Vec_Len)\n",
    "\n",
    "losses = torch.clamp(torch.reshape(RELATIVE_LOSS,(-1,)), max=2).detach().numpy()\n",
    "\n",
    "plt.hist(losses)"
   ]
  },
  {
   "cell_type": "code",
   "execution_count": null,
   "id": "233a46fe",
   "metadata": {},
   "outputs": [],
   "source": []
  }
 ],
 "metadata": {
  "kernelspec": {
   "display_name": "Python 3 (ipykernel)",
   "language": "python",
   "name": "python3"
  },
  "language_info": {
   "codemirror_mode": {
    "name": "ipython",
    "version": 3
   },
   "file_extension": ".py",
   "mimetype": "text/x-python",
   "name": "python",
   "nbconvert_exporter": "python",
   "pygments_lexer": "ipython3",
   "version": "3.9.7"
  }
 },
 "nbformat": 4,
 "nbformat_minor": 5
}
