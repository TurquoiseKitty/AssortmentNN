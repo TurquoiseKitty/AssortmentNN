{
 "cells": [
  {
   "cell_type": "markdown",
   "id": "feebd70a",
   "metadata": {},
   "source": [
    "## same as EXP2, the bottleneck model to tackle 250 products, but this time for dense assortment input. Train for more epoches. Sample amount is likely enough"
   ]
  },
  {
   "cell_type": "code",
   "execution_count": null,
   "id": "0137382a",
   "metadata": {},
   "outputs": [
    {
     "name": "stdout",
     "output_type": "stream",
     "text": [
      "data generated!\n",
      "total time elapse :  382.0234065055847\n",
      "epoch :  50\n",
      "835.0942549705505\n",
      "epoch :  100\n",
      "1299.0565366744995\n",
      "epoch :  150\n",
      "1720.5588145256042\n",
      "epoch :  200\n",
      "2108.943246126175\n",
      "epoch :  250\n",
      "2521.1219704151154\n",
      "epoch :  300\n",
      "2942.806494474411\n",
      "epoch :  350\n",
      "3358.45831489563\n",
      "epoch :  400\n",
      "3769.019059896469\n",
      "epoch :  450\n",
      "4160.799366950989\n",
      "epoch :  500\n",
      "4552.544983863831\n",
      "epoch :  550\n",
      "4948.104934453964\n",
      "epoch :  600\n",
      "5337.036396026611\n",
      "epoch :  650\n",
      "5732.131959915161\n",
      "epoch :  700\n",
      "6120.926271438599\n",
      "epoch :  750\n",
      "6510.638135910034\n",
      "epoch :  800\n",
      "6901.895179986954\n",
      "epoch :  850\n",
      "7290.5155165195465\n",
      "epoch :  900\n",
      "7682.080429792404\n",
      "epoch :  950\n",
      "8072.161058187485\n",
      "epoch :  1000\n",
      "8467.694536685944\n",
      "epoch :  1050\n",
      "8859.495658636093\n",
      "epoch :  1100\n",
      "9248.748811006546\n",
      "epoch :  1150\n",
      "9641.810336351395\n",
      "epoch :  1200\n",
      "10033.571015834808\n",
      "epoch :  1250\n",
      "10425.9208278656\n",
      "epoch :  1300\n",
      "10815.21872973442\n",
      "epoch :  1350\n",
      "11209.232590675354\n",
      "epoch :  1400\n",
      "11601.235633850098\n",
      "epoch :  1450\n",
      "11999.428468942642\n",
      "epoch :  1500\n",
      "12390.994466543198\n",
      "epoch :  1550\n",
      "12780.451363801956\n",
      "epoch :  1600\n",
      "13175.809649944305\n",
      "epoch :  1650\n",
      "13566.161232709885\n",
      "epoch :  1700\n",
      "13960.534929275513\n",
      "epoch :  1750\n",
      "14350.870289802551\n",
      "epoch :  1800\n",
      "14740.783772230148\n",
      "epoch :  1850\n",
      "15131.160356998444\n",
      "epoch :  1900\n",
      "15522.259835004807\n"
     ]
    }
   ],
   "source": [
    "import AssortmentGenerator as AG\n",
    "import MarkovGenerator as MG\n",
    "import Models\n",
    "import time\n",
    "\n",
    "import numpy as np\n",
    "import torch\n",
    "import torch.nn as nn\n",
    "\n",
    "from torch import optim\n",
    "from torch.utils.data import Dataset, DataLoader, TensorDataset\n",
    "import matplotlib.pyplot as plt\n",
    "\n",
    "start_time = time.time()\n",
    "\n",
    "N_prod = 250        # number of products\n",
    "Vec_Len = N_prod + 1\n",
    "Neck_Len = 30       # bottle neck width\n",
    "EPOCHS = 2000\n",
    "SAMPLE_AMOUNT = 500000\n",
    "BATCH_SIZE = 5000\n",
    "TRAIN_VALI_RATE = 0.9\n",
    "ADAM_LR = 0.0005\n",
    "\n",
    "# generate latent parameters\n",
    "transP = np.load(\"EXP7_dump/markov_matrix.npy\")\n",
    "lams = np.load(\"EXP7_dump/arriving_lambda.npy\")\n",
    "\n",
    "model = torch.load(\"EXP7_dump/bottleneck_model_3.pth\")\n",
    "\n",
    "# generate synthetic data\n",
    "INPUT = np.zeros((SAMPLE_AMOUNT,Vec_Len))\n",
    "OUTPUT = np.zeros((SAMPLE_AMOUNT,Vec_Len))\n",
    "for i in range(SAMPLE_AMOUNT):\n",
    "    \n",
    "    # generate input vector, which has length vec_len\n",
    "    # the first element is 0, which should be ignored when treated as an assortment\n",
    "    assort = AG.GenAssortment_Abundant(N_prod)    \n",
    "    INPUT[i] = AG.Product_0(assort)\n",
    "    OUTPUT[i] = MG.Absorbing_Calculator(lams, transP, assort)\n",
    "\n",
    "print(\"data generated!\")\n",
    "print(\"total time elapse : \",time.time()-start_time)\n",
    "\n",
    "train_dataset = TensorDataset(torch.Tensor(INPUT[:int(SAMPLE_AMOUNT * TRAIN_VALI_RATE)]),torch.Tensor(OUTPUT[:int(SAMPLE_AMOUNT * TRAIN_VALI_RATE)]))    \n",
    "vali_dataset = TensorDataset(torch.Tensor(INPUT[int(SAMPLE_AMOUNT * TRAIN_VALI_RATE):]),torch.Tensor(OUTPUT[int(SAMPLE_AMOUNT * TRAIN_VALI_RATE):]))    \n",
    "\n",
    "train_loader = DataLoader(train_dataset, shuffle=True, batch_size = BATCH_SIZE)\n",
    "vali_loader = DataLoader(vali_dataset, shuffle=True, batch_size = len(vali_dataset))\n",
    "\n",
    "optimizer = optim.Adam(model.parameters(), lr = ADAM_LR)\n",
    "criterion = nn.BCELoss()\n",
    "\n",
    "training_losses = np.array([])\n",
    "vali_losses = np.array([])\n",
    "\n",
    "for epo in range(1,EPOCHS+1):\n",
    "    if epo % 50 == 0:\n",
    "        print(\"epoch : \",epo)\n",
    "        print(time.time()-start_time)\n",
    "    \n",
    "    for step, (IN, TEST) in enumerate(train_loader):\n",
    "        \n",
    "        OUT = model(IN)\n",
    "        loss = criterion(OUT,TEST)\n",
    "        optimizer.zero_grad()\n",
    "        loss.backward()\n",
    "        optimizer.step()\n",
    "        \n",
    "        loss_pure = loss.detach().item()\n",
    "        loss_base = criterion(TEST,TEST).detach().item()\n",
    "        training_losses= np.append(training_losses,(loss_pure - loss_base)/loss_base)\n",
    "        \n",
    "    for step, (VALI_IN, VALI_TEST) in enumerate(vali_loader):\n",
    "        VALI_OUT = model(VALI_IN)\n",
    "        \n",
    "        RELATIVE_LOSS = nn.functional.l1_loss(VALI_TEST, VALI_OUT, size_average=False, reduce = False, reduction = None) / torch.clamp(VALI_TEST, min = 1/Vec_Len)\n",
    "\n",
    "        losses = np.mean(torch.clamp(torch.reshape(RELATIVE_LOSS,(-1,)), max=4).detach().numpy())\n",
    "        \n",
    "        vali_losses = np.append(vali_losses,losses)\n",
    "\n",
    "np.save('EXP7_dump/bottleneck_train_loss_Large', training_losses)\n",
    "np.save('EXP7_dump/bottleneck_vali_loss_Large', vali_losses)\n",
    "torch.save(model, \"EXP7_dump/bottleneck_model_Large.pth\")"
   ]
  },
  {
   "cell_type": "code",
   "execution_count": 10,
   "id": "b3ab1d58",
   "metadata": {},
   "outputs": [
    {
     "data": {
      "text/plain": [
       "[<matplotlib.lines.Line2D at 0x2444ee609a0>]"
      ]
     },
     "execution_count": 10,
     "metadata": {},
     "output_type": "execute_result"
    },
    {
     "data": {
      "image/png": "[encoded data removed]",
      "text/plain": [
       "<Figure size 432x288 with 1 Axes>"
      ]
     },
     "metadata": {
      "needs_background": "light"
     },
     "output_type": "display_data"
    }
   ],
   "source": [
    "train_loss = np.load('EXP7_dump/bottleneck_train_loss_LARGE.npy')\n",
    "plt.plot(train_loss[50000:])"
   ]
  },
  {
   "cell_type": "code",
   "execution_count": 13,
   "id": "4923aada",
   "metadata": {
    "scrolled": true
   },
   "outputs": [
    {
     "data": {
      "text/plain": [
       "[<matplotlib.lines.Line2D at 0x2444f5e0460>]"
      ]
     },
     "execution_count": 13,
     "metadata": {},
     "output_type": "execute_result"
    },
    {
     "data": {
      "image/png": "[encoded data removed]",
      "text/plain": [
       "<Figure size 432x288 with 1 Axes>"
      ]
     },
     "metadata": {
      "needs_background": "light"
     },
     "output_type": "display_data"
    }
   ],
   "source": [
    "train_loss = np.load('EXP7_dump/bottleneck_vali_loss_LARGE.npy')\n",
    "plt.plot(train_loss[500:])"
   ]
  },
  {
   "cell_type": "markdown",
   "id": "52305b37",
   "metadata": {},
   "source": [
    "## test sparse"
   ]
  },
  {
   "cell_type": "code",
   "execution_count": 17,
   "id": "78260ab2",
   "metadata": {},
   "outputs": [
    {
     "data": {
      "text/plain": [
       "(array([4.69041e+05, 2.85700e+03, 9.60900e+03, 1.39010e+04, 6.57900e+03,\n",
       "        2.00000e+00, 3.00000e+00, 2.00000e+00, 3.00000e+00, 3.00000e+00]),\n",
       " array([2.2700510e-08, 2.0000002e-01, 4.0000001e-01, 6.0000002e-01,\n",
       "        8.0000001e-01, 1.0000000e+00, 1.2000000e+00, 1.4000000e+00,\n",
       "        1.6000000e+00, 1.8000000e+00, 2.0000000e+00], dtype=float32),\n",
       " <BarContainer object of 10 artists>)"
      ]
     },
     "execution_count": 17,
     "metadata": {},
     "output_type": "execute_result"
    },
    {
     "data": {
      "image/png": "[encoded data removed]",
      "text/plain": [
       "<Figure size 432x288 with 1 Axes>"
      ]
     },
     "metadata": {
      "needs_background": "light"
     },
     "output_type": "display_data"
    }
   ],
   "source": [
    "import AssortmentGenerator as AG\n",
    "import MarkovGenerator as MG\n",
    "import Models\n",
    "import time\n",
    "\n",
    "import numpy as np\n",
    "import torch\n",
    "import torch.nn as nn\n",
    "\n",
    "from torch import optim\n",
    "from torch.utils.data import Dataset, DataLoader, TensorDataset\n",
    "import matplotlib.pyplot as plt\n",
    "\n",
    "N_prod = 250        # number of products\n",
    "Vec_Len = N_prod + 1\n",
    "\n",
    "DENSE_AMOUNT = 2000\n",
    "\n",
    "model = torch.load(\"EXP7_dump/bottleneck_model_LARGE.pth\")\n",
    "INPUT = np.zeros((DENSE_AMOUNT,Vec_Len))\n",
    "OUTPUT = np.zeros((DENSE_AMOUNT,Vec_Len))\n",
    "for i in range(DENSE_AMOUNT):\n",
    "    assort = AG.GenAssortment_Sparse(N_prod)    \n",
    "    INPUT[i] = AG.Product_0(assort)\n",
    "    OUTPUT[i] = MG.Absorbing_Calculator(lams, transP, assort)\n",
    "\n",
    "\n",
    "INPUT=torch.Tensor(INPUT)\n",
    "OUTPUT = torch.Tensor(OUTPUT)\n",
    "\n",
    "MODEL_OUT = model(INPUT)\n",
    "\n",
    "RELATIVE_LOSS = nn.functional.l1_loss(OUTPUT, MODEL_OUT, size_average=False, reduce = False, reduction = None) / torch.clamp(OUTPUT, min = 1/Vec_Len)\n",
    "\n",
    "losses = torch.clamp(torch.reshape(RELATIVE_LOSS,(-1,)), max=2).detach().numpy()\n",
    "\n",
    "plt.hist(losses)"
   ]
  },
  {
   "cell_type": "markdown",
   "id": "1bf4e3d5",
   "metadata": {},
   "source": [
    "## test 3/4 dense"
   ]
  },
  {
   "cell_type": "code",
   "execution_count": 18,
   "id": "4506ed2f",
   "metadata": {},
   "outputs": [
    {
     "data": {
      "text/plain": [
       "(array([240049.,  75164.,  46845.,  32112.,  22947.,  16971.,  12671.,\n",
       "          9513.,   7656.,  38072.]),\n",
       " array([5.0574505e-07, 2.0000045e-01, 4.0000039e-01, 6.0000038e-01,\n",
       "        8.0000031e-01, 1.0000002e+00, 1.2000002e+00, 1.4000001e+00,\n",
       "        1.6000001e+00, 1.8000001e+00, 2.0000000e+00], dtype=float32),\n",
       " <BarContainer object of 10 artists>)"
      ]
     },
     "execution_count": 18,
     "metadata": {},
     "output_type": "execute_result"
    },
    {
     "data": {
      "image/png": "[encoded data removed]",
      "text/plain": [
       "<Figure size 432x288 with 1 Axes>"
      ]
     },
     "metadata": {
      "needs_background": "light"
     },
     "output_type": "display_data"
    }
   ],
   "source": [
    "N_prod = 250        # number of products\n",
    "Vec_Len = N_prod + 1\n",
    "\n",
    "DENSE_AMOUNT = 2000\n",
    "\n",
    "model = torch.load(\"EXP7_dump/bottleneck_model_LARGE.pth\")\n",
    "INPUT = np.zeros((DENSE_AMOUNT,Vec_Len))\n",
    "OUTPUT = np.zeros((DENSE_AMOUNT,Vec_Len))\n",
    "for i in range(DENSE_AMOUNT):\n",
    "    assort = AG.GenAssortment_Even(N_prod, 3/4)    \n",
    "    INPUT[i] = AG.Product_0(assort)\n",
    "    OUTPUT[i] = MG.Absorbing_Calculator(lams, transP, assort)\n",
    "\n",
    "\n",
    "INPUT=torch.Tensor(INPUT)\n",
    "OUTPUT = torch.Tensor(OUTPUT)\n",
    "\n",
    "MODEL_OUT = model(INPUT)\n",
    "\n",
    "RELATIVE_LOSS = nn.functional.l1_loss(OUTPUT, MODEL_OUT, size_average=False, reduce = False, reduction = None) / torch.clamp(OUTPUT, min = 1/Vec_Len)\n",
    "\n",
    "losses = torch.clamp(torch.reshape(RELATIVE_LOSS,(-1,)), max=2).detach().numpy()\n",
    "\n",
    "plt.hist(losses)"
   ]
  },
  {
   "cell_type": "markdown",
   "id": "ceab135f",
   "metadata": {},
   "source": [
    "## dense"
   ]
  },
  {
   "cell_type": "code",
   "execution_count": 19,
   "id": "edbd883f",
   "metadata": {},
   "outputs": [
    {
     "data": {
      "text/plain": [
       "(array([79418., 88574., 75724., 58021., 42135., 30829., 22925., 17538.,\n",
       "        13249., 73587.]),\n",
       " array([4.0908344e-07, 2.0000038e-01, 4.0000033e-01, 6.0000026e-01,\n",
       "        8.0000025e-01, 1.0000002e+00, 1.2000002e+00, 1.4000001e+00,\n",
       "        1.6000000e+00, 1.8000001e+00, 2.0000000e+00], dtype=float32),\n",
       " <BarContainer object of 10 artists>)"
      ]
     },
     "execution_count": 19,
     "metadata": {},
     "output_type": "execute_result"
    },
    {
     "data": {
      "image/png": "[encoded data removed]",
      "text/plain": [
       "<Figure size 432x288 with 1 Axes>"
      ]
     },
     "metadata": {
      "needs_background": "light"
     },
     "output_type": "display_data"
    }
   ],
   "source": [
    "DENSE_AMOUNT = 2000\n",
    "\n",
    "\n",
    "INPUT = np.zeros((DENSE_AMOUNT,Vec_Len))\n",
    "OUTPUT = np.zeros((DENSE_AMOUNT,Vec_Len))\n",
    "for i in range(DENSE_AMOUNT):\n",
    "    assort = AG.GenAssortment_Fixed(N_prod, fixed_num = N_prod-1)    \n",
    "    INPUT[i] = AG.Product_0(assort)\n",
    "    OUTPUT[i] = MG.Absorbing_Calculator(lams, transP, assort)\n",
    "\n",
    "\n",
    "INPUT=torch.Tensor(INPUT)\n",
    "OUTPUT = torch.Tensor(OUTPUT)\n",
    "\n",
    "MODEL_OUT = model(INPUT)\n",
    "\n",
    "RELATIVE_LOSS = nn.functional.l1_loss(OUTPUT, MODEL_OUT, size_average=False, reduce = False, reduction = None) / torch.clamp(OUTPUT, min = 1/Vec_Len)\n",
    "\n",
    "losses = torch.clamp(torch.reshape(RELATIVE_LOSS,(-1,)), max=2).detach().numpy()\n",
    "\n",
    "plt.hist(losses)"
   ]
  },
  {
   "cell_type": "code",
   "execution_count": null,
   "id": "732aebe8",
   "metadata": {},
   "outputs": [],
   "source": []
  }
 ],
 "metadata": {
  "kernelspec": {
   "display_name": "Python 3 (ipykernel)",
   "language": "python",
   "name": "python3"
  },
  "language_info": {
   "codemirror_mode": {
    "name": "ipython",
    "version": 3
   },
   "file_extension": ".py",
   "mimetype": "text/x-python",
   "name": "python",
   "nbconvert_exporter": "python",
   "pygments_lexer": "ipython3",
   "version": "3.9.7"
  }
 },
 "nbformat": 4,
 "nbformat_minor": 5
}
