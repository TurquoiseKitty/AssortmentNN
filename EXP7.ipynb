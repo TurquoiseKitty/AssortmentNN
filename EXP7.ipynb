{
 "cells": [
  {
   "cell_type": "markdown",
   "id": "feebd70a",
   "metadata": {},
   "source": [
    "## same as EXP2, the bottleneck model to tackle 250 products, but this time for dense assortment input. Train for more epoches. Sample amount is likely enough"
   ]
  },
  {
   "cell_type": "code",
   "execution_count": 25,
   "id": "0137382a",
   "metadata": {},
   "outputs": [
    {
     "name": "stdout",
     "output_type": "stream",
     "text": [
      "data generated!\n",
      "total time elapse :  401.1853349208832\n"
     ]
    },
    {
     "name": "stderr",
     "output_type": "stream",
     "text": [
      "D:\\SOFTWARE\\ANACONDA\\lib\\site-packages\\torch\\nn\\_reduction.py:42: UserWarning: size_average and reduce args will be deprecated, please use reduction='none' instead.\n",
      "  warnings.warn(warning.format(ret))\n"
     ]
    }
   ],
   "source": [
    "import AssortmentGenerator as AG\n",
    "import MarkovGenerator as MG\n",
    "import Models\n",
    "import time\n",
    "\n",
    "import numpy as np\n",
    "import torch\n",
    "import torch.nn as nn\n",
    "\n",
    "from torch import optim\n",
    "from torch.utils.data import Dataset, DataLoader, TensorDataset\n",
    "import matplotlib.pyplot as plt\n",
    "\n",
    "start_time = time.time()\n",
    "\n",
    "N_prod = 250        # number of products\n",
    "Vec_Len = N_prod + 1\n",
    "Neck_Len = 30       # bottle neck width\n",
    "# EPOCHS = 2000\n",
    "EPOCHS = 1\n",
    "SAMPLE_AMOUNT = 500000\n",
    "BATCH_SIZE = 5000\n",
    "TRAIN_VALI_RATE = 0.9\n",
    "ADAM_LR = 0.0005\n",
    "\n",
    "# generate latent parameters\n",
    "transP = np.load(\"EXP7_dump/markov_matrix.npy\")\n",
    "lams = np.load(\"EXP7_dump/arriving_lambda.npy\")\n",
    "\n",
    "model = torch.load(\"EXP7_dump/bottleneck_model_3.pth\")\n",
    "\n",
    "# generate synthetic data\n",
    "INPUT = np.zeros((SAMPLE_AMOUNT,Vec_Len))\n",
    "OUTPUT = np.zeros((SAMPLE_AMOUNT,Vec_Len))\n",
    "for i in range(SAMPLE_AMOUNT):\n",
    "    \n",
    "    # generate input vector, which has length vec_len\n",
    "    # the first element is 0, which should be ignored when treated as an assortment\n",
    "    assort = AG.GenAssortment_Abundant(N_prod)    \n",
    "    INPUT[i] = AG.Product_0(assort)\n",
    "    OUTPUT[i] = MG.Absorbing_Calculator(lams, transP, assort)\n",
    "\n",
    "print(\"data generated!\")\n",
    "print(\"total time elapse : \",time.time()-start_time)\n",
    "\n",
    "train_dataset = TensorDataset(torch.Tensor(INPUT[:int(SAMPLE_AMOUNT * TRAIN_VALI_RATE)]),torch.Tensor(OUTPUT[:int(SAMPLE_AMOUNT * TRAIN_VALI_RATE)]))    \n",
    "vali_dataset = TensorDataset(torch.Tensor(INPUT[int(SAMPLE_AMOUNT * TRAIN_VALI_RATE):]),torch.Tensor(OUTPUT[int(SAMPLE_AMOUNT * TRAIN_VALI_RATE):]))    \n",
    "\n",
    "train_loader = DataLoader(train_dataset, shuffle=True, batch_size = BATCH_SIZE)\n",
    "vali_loader = DataLoader(vali_dataset, shuffle=True, batch_size = len(vali_dataset))\n",
    "\n",
    "optimizer = optim.Adam(model.parameters(), lr = ADAM_LR)\n",
    "criterion = nn.BCELoss()\n",
    "\n",
    "training_losses = np.array([])\n",
    "vali_losses = np.array([])\n",
    "\n",
    "for epo in range(1,EPOCHS+1):\n",
    "    if epo % 50 == 0:\n",
    "        print(\"epoch : \",epo)\n",
    "    for step, (IN, TEST) in enumerate(train_loader):\n",
    "        \n",
    "        OUT = model(IN)\n",
    "        loss = criterion(OUT,TEST)\n",
    "        optimizer.zero_grad()\n",
    "        loss.backward()\n",
    "        optimizer.step()\n",
    "        \n",
    "        loss_pure = loss.detach().item()\n",
    "        loss_base = criterion(TEST,TEST).detach().item()\n",
    "        training_losses= np.append(training_losses,(loss_pure - loss_base)/loss_base)\n",
    "        \n",
    "    for step, (VALI_IN, VALI_TEST) in enumerate(vali_loader):\n",
    "        VALI_OUT = model(VALI_IN)\n",
    "        \n",
    "        RELATIVE_LOSS = nn.functional.l1_loss(VALI_TEST, VALI_OUT, size_average=False, reduce = False, reduction = None) / torch.clamp(VALI_TEST, min = 1/Vec_Len)\n",
    "\n",
    "        losses = torch.clamp(torch.reshape(RELATIVE_LOSS,(-1,)), max=4).detach().numpy()\n",
    "        \n",
    "        vali_losses = np.append(vali_losses,losses)\n",
    "\n",
    "np.save('EXP7_dump/bottleneck_train_loss_Large', training_losses)\n",
    "np.save('EXP7_dump/bottleneck_vali_loss_Large', vali_losses)\n",
    "torch.save(model, \"EXP7_dump/bottleneck_model_Large.pth\")"
   ]
  },
  {
   "cell_type": "code",
   "execution_count": 28,
   "id": "32288a31",
   "metadata": {},
   "outputs": [
    {
     "data": {
      "text/plain": [
       "[<matplotlib.lines.Line2D at 0x2662aea8640>]"
      ]
     },
     "execution_count": 28,
     "metadata": {},
     "output_type": "execute_result"
    },
    {
     "data": {
      "image/png": "[encoded data removed]",
      "text/plain": [
       "<Figure size 432x288 with 1 Axes>"
      ]
     },
     "metadata": {
      "needs_background": "light"
     },
     "output_type": "display_data"
    }
   ],
   "source": [
    "train_loss = np.load('EXP7_dump/bottleneck_vali_loss_LARGE.npy')\n",
    "plt.plot(train_loss)"
   ]
  }
 ],
 "metadata": {
  "kernelspec": {
   "display_name": "Python 3 (ipykernel)",
   "language": "python",
   "name": "python3"
  },
  "language_info": {
   "codemirror_mode": {
    "name": "ipython",
    "version": 3
   },
   "file_extension": ".py",
   "mimetype": "text/x-python",
   "name": "python",
   "nbconvert_exporter": "python",
   "pygments_lexer": "ipython3",
   "version": "3.9.7"
  }
 },
 "nbformat": 4,
 "nbformat_minor": 5
}
